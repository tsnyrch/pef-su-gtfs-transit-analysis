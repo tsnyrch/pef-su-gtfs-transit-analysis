{
  "cells": [
    {
      "cell_type": "markdown",
      "metadata": {},
      "source": [
        "# 🚊 GTFS Transit Analysis Dashboard\n",
        "\n",
        "## Comprehensive Analysis of Public Transit Data\n",
        "\n",
        "This notebook demonstrates a complete analysis pipeline for GTFS (General Transit Feed Specification) data, including:\n",
        "\n",
        "- 📊 **Data Processing & Feature Engineering**\n",
        "- 🗺️ **Network Analysis & Routing Algorithms**\n",
        "- 🤖 **Machine Learning for Delay Prediction**\n",
        "- 📈 **Demand Forecasting**\n",
        "- 📱 **Interactive Visualizations & Dashboard**\n",
        "\n",
        "---"
      ]
    },
    {
      "cell_type": "markdown",
      "metadata": {},
      "source": [
        "## 🛠️ Setup and Imports"
      ]
    },
    {
      "cell_type": "code",
      "execution_count": 27,
      "metadata": {},
      "outputs": [
        {
          "name": "stdout",
          "output_type": "stream",
          "text": [
            "✅ All imports successful!\n"
          ]
        }
      ],
      "source": [
        "# Import standard libraries\n",
        "import pandas as pd\n",
        "import numpy as np\n",
        "import matplotlib.pyplot as plt\n",
        "import seaborn as sns\n",
        "import warnings\n",
        "import sys\n",
        "import os\n",
        "\n",
        "# Now import our custom modules\n",
        "from data_processing import GTFSProcessor\n",
        "from routing import TransitRouter\n",
        "from prediction import DelayPredictor, DemandForecaster\n",
        "from visualization import TransitVisualizer\n",
        "\n",
        "# Add the parent directory to the Python path to access src modules\n",
        "parent_dir = os.path.dirname(os.getcwd())\n",
        "src_path = os.path.join(parent_dir, 'src')\n",
        "if src_path not in sys.path:\n",
        "    sys.path.insert(0, src_path)\n",
        "\n",
        "warnings.filterwarnings('ignore')\n",
        "\n",
        "# Set display options\n",
        "pd.set_option('display.max_columns', None)\n",
        "plt.style.use('seaborn-v0_8')\n",
        "sns.set_palette(\"husl\")\n",
        "\n",
        "print(\"✅ All imports successful!\")"
      ]
    },
    {
      "cell_type": "markdown",
      "metadata": {},
      "source": [
        "## 📂 Data Loading and Initial Exploration"
      ]
    },
    {
      "cell_type": "code",
      "execution_count": 6,
      "metadata": {},
      "outputs": [
        {
          "name": "stdout",
          "output_type": "stream",
          "text": [
            "Loading GTFS data files...\n",
            "✓ Loaded agency.txt: 1 records\n",
            "✓ Loaded routes.txt: 343 records\n",
            "✓ Loaded trips.txt: 56226 records\n",
            "✓ Loaded stops.txt: 10911 records\n",
            "✓ Loaded stop_times.txt: 961814 records\n",
            "✓ Loaded calendar.txt: 204 records\n",
            "✓ Loaded calendar_dates.txt: 712 records\n",
            "✓ Loaded transfers.txt: 151411 records\n",
            "\n",
            "📊 Loaded 8 GTFS data files\n",
            "  - agencies: 1 records\n",
            "  - routes: 343 records\n",
            "  - trips: 56,226 records\n",
            "  - stops: 10,911 records\n",
            "  - stop_times: 961,814 records\n",
            "  - calendar: 204 records\n",
            "  - calendar_dates: 712 records\n",
            "  - transfers: 151,411 records\n",
            "✓ Loaded stop_times.txt: 961814 records\n",
            "✓ Loaded calendar.txt: 204 records\n",
            "✓ Loaded calendar_dates.txt: 712 records\n",
            "✓ Loaded transfers.txt: 151411 records\n",
            "\n",
            "📊 Loaded 8 GTFS data files\n",
            "  - agencies: 1 records\n",
            "  - routes: 343 records\n",
            "  - trips: 56,226 records\n",
            "  - stops: 10,911 records\n",
            "  - stop_times: 961,814 records\n",
            "  - calendar: 204 records\n",
            "  - calendar_dates: 712 records\n",
            "  - transfers: 151,411 records\n"
          ]
        }
      ],
      "source": [
        "# Initialize GTFS processor\n",
        "data_path = '../data'\n",
        "gtfs = GTFSProcessor(data_path)\n",
        "\n",
        "# Load all GTFS data files\n",
        "loaded_data = gtfs.load_data()\n",
        "\n",
        "print(f\"\\n📊 Loaded {len(loaded_data)} GTFS data files\")\n",
        "for name, df in loaded_data.items():\n",
        "    print(f\"  - {name}: {len(df):,} records\")"
      ]
    },
    {
      "cell_type": "code",
      "execution_count": 7,
      "metadata": {},
      "outputs": [
        {
          "name": "stdout",
          "output_type": "stream",
          "text": [
            "\n",
            "📈 Dataset Summary:\n",
            "========================================\n",
            "num_agencies: 1\n",
            "num_routes: 343\n",
            "route_types:\n",
            "  - 3: 286\n",
            "  - 2: 28\n",
            "  - 0: 15\n",
            "  - 800: 13\n",
            "  - 4: 1\n",
            "num_stops: 10,911\n",
            "num_trips: 56,226\n",
            "num_stop_times: 961,814\n"
          ]
        }
      ],
      "source": [
        "# Get summary statistics\n",
        "stats = gtfs.get_summary_statistics()\n",
        "\n",
        "print(\"\\n📈 Dataset Summary:\")\n",
        "print(\"=\" * 40)\n",
        "for key, value in stats.items():\n",
        "    if isinstance(value, dict):\n",
        "        print(f\"{key}:\")\n",
        "        for k, v in value.items():\n",
        "            print(f\"  - {k}: {v}\")\n",
        "    else:\n",
        "        print(f\"{key}: {value:,}\")"
      ]
    },
    {
      "cell_type": "markdown",
      "metadata": {},
      "source": [
        "## 🔧 Feature Engineering and Data Processing"
      ]
    },
    {
      "cell_type": "code",
      "execution_count": 8,
      "metadata": {},
      "outputs": [
        {
          "name": "stdout",
          "output_type": "stream",
          "text": [
            "Creating engineered features...\n",
            "✓ Created features for 961814 records\n",
            "\n",
            "🔍 Sample of Engineered Features:\n",
            "==================================================\n",
            "✓ Created features for 961814 records\n",
            "\n",
            "🔍 Sample of Engineered Features:\n",
            "==================================================\n"
          ]
        },
        {
          "data": {
            "application/vnd.microsoft.datawrangler.viewer.v0+json": {
              "columns": [
                {
                  "name": "index",
                  "rawType": "int64",
                  "type": "integer"
                },
                {
                  "name": "stop_id",
                  "rawType": "object",
                  "type": "string"
                },
                {
                  "name": "trip_id",
                  "rawType": "int64",
                  "type": "integer"
                },
                {
                  "name": "route_id",
                  "rawType": "object",
                  "type": "string"
                },
                {
                  "name": "hour",
                  "rawType": "int64",
                  "type": "integer"
                },
                {
                  "name": "is_rush_hour",
                  "rawType": "int64",
                  "type": "integer"
                },
                {
                  "name": "time_period",
                  "rawType": "object",
                  "type": "string"
                },
                {
                  "name": "route_type_name",
                  "rawType": "object",
                  "type": "string"
                },
                {
                  "name": "is_first_stop",
                  "rawType": "int64",
                  "type": "integer"
                },
                {
                  "name": "is_last_stop",
                  "rawType": "int64",
                  "type": "integer"
                }
              ],
              "ref": "c1f7548c-48a4-4485-9e8a-30c6dd5accb9",
              "rows": [
                [
                  "0",
                  "U15775Z2",
                  "1",
                  "L104D99",
                  "4",
                  "0",
                  "Night",
                  "Bus",
                  "1",
                  "0"
                ],
                [
                  "1",
                  "U15773Z2",
                  "1",
                  "L104D99",
                  "4",
                  "0",
                  "Night",
                  "Bus",
                  "0",
                  "0"
                ],
                [
                  "2",
                  "U15627Z2",
                  "1",
                  "L104D99",
                  "4",
                  "0",
                  "Night",
                  "Bus",
                  "0",
                  "0"
                ],
                [
                  "3",
                  "U15640Z2",
                  "1",
                  "L104D99",
                  "4",
                  "0",
                  "Night",
                  "Bus",
                  "0",
                  "0"
                ],
                [
                  "4",
                  "U15639Z2",
                  "1",
                  "L104D99",
                  "4",
                  "0",
                  "Night",
                  "Bus",
                  "0",
                  "0"
                ],
                [
                  "5",
                  "U15637Z2",
                  "1",
                  "L104D99",
                  "4",
                  "0",
                  "Night",
                  "Bus",
                  "0",
                  "0"
                ],
                [
                  "6",
                  "U15628Z2",
                  "1",
                  "L104D99",
                  "4",
                  "0",
                  "Night",
                  "Bus",
                  "0",
                  "0"
                ],
                [
                  "7",
                  "U15634Z2",
                  "1",
                  "L104D99",
                  "4",
                  "0",
                  "Night",
                  "Bus",
                  "0",
                  "0"
                ],
                [
                  "8",
                  "U15631Z2",
                  "1",
                  "L104D99",
                  "4",
                  "0",
                  "Night",
                  "Bus",
                  "0",
                  "0"
                ],
                [
                  "9",
                  "U15632Z1",
                  "1",
                  "L104D99",
                  "4",
                  "0",
                  "Night",
                  "Bus",
                  "0",
                  "0"
                ]
              ],
              "shape": {
                "columns": 9,
                "rows": 10
              }
            },
            "text/html": [
              "<div>\n",
              "<style scoped>\n",
              "    .dataframe tbody tr th:only-of-type {\n",
              "        vertical-align: middle;\n",
              "    }\n",
              "\n",
              "    .dataframe tbody tr th {\n",
              "        vertical-align: top;\n",
              "    }\n",
              "\n",
              "    .dataframe thead th {\n",
              "        text-align: right;\n",
              "    }\n",
              "</style>\n",
              "<table border=\"1\" class=\"dataframe\">\n",
              "  <thead>\n",
              "    <tr style=\"text-align: right;\">\n",
              "      <th></th>\n",
              "      <th>stop_id</th>\n",
              "      <th>trip_id</th>\n",
              "      <th>route_id</th>\n",
              "      <th>hour</th>\n",
              "      <th>is_rush_hour</th>\n",
              "      <th>time_period</th>\n",
              "      <th>route_type_name</th>\n",
              "      <th>is_first_stop</th>\n",
              "      <th>is_last_stop</th>\n",
              "    </tr>\n",
              "  </thead>\n",
              "  <tbody>\n",
              "    <tr>\n",
              "      <th>0</th>\n",
              "      <td>U15775Z2</td>\n",
              "      <td>1</td>\n",
              "      <td>L104D99</td>\n",
              "      <td>4</td>\n",
              "      <td>0</td>\n",
              "      <td>Night</td>\n",
              "      <td>Bus</td>\n",
              "      <td>1</td>\n",
              "      <td>0</td>\n",
              "    </tr>\n",
              "    <tr>\n",
              "      <th>1</th>\n",
              "      <td>U15773Z2</td>\n",
              "      <td>1</td>\n",
              "      <td>L104D99</td>\n",
              "      <td>4</td>\n",
              "      <td>0</td>\n",
              "      <td>Night</td>\n",
              "      <td>Bus</td>\n",
              "      <td>0</td>\n",
              "      <td>0</td>\n",
              "    </tr>\n",
              "    <tr>\n",
              "      <th>2</th>\n",
              "      <td>U15627Z2</td>\n",
              "      <td>1</td>\n",
              "      <td>L104D99</td>\n",
              "      <td>4</td>\n",
              "      <td>0</td>\n",
              "      <td>Night</td>\n",
              "      <td>Bus</td>\n",
              "      <td>0</td>\n",
              "      <td>0</td>\n",
              "    </tr>\n",
              "    <tr>\n",
              "      <th>3</th>\n",
              "      <td>U15640Z2</td>\n",
              "      <td>1</td>\n",
              "      <td>L104D99</td>\n",
              "      <td>4</td>\n",
              "      <td>0</td>\n",
              "      <td>Night</td>\n",
              "      <td>Bus</td>\n",
              "      <td>0</td>\n",
              "      <td>0</td>\n",
              "    </tr>\n",
              "    <tr>\n",
              "      <th>4</th>\n",
              "      <td>U15639Z2</td>\n",
              "      <td>1</td>\n",
              "      <td>L104D99</td>\n",
              "      <td>4</td>\n",
              "      <td>0</td>\n",
              "      <td>Night</td>\n",
              "      <td>Bus</td>\n",
              "      <td>0</td>\n",
              "      <td>0</td>\n",
              "    </tr>\n",
              "    <tr>\n",
              "      <th>5</th>\n",
              "      <td>U15637Z2</td>\n",
              "      <td>1</td>\n",
              "      <td>L104D99</td>\n",
              "      <td>4</td>\n",
              "      <td>0</td>\n",
              "      <td>Night</td>\n",
              "      <td>Bus</td>\n",
              "      <td>0</td>\n",
              "      <td>0</td>\n",
              "    </tr>\n",
              "    <tr>\n",
              "      <th>6</th>\n",
              "      <td>U15628Z2</td>\n",
              "      <td>1</td>\n",
              "      <td>L104D99</td>\n",
              "      <td>4</td>\n",
              "      <td>0</td>\n",
              "      <td>Night</td>\n",
              "      <td>Bus</td>\n",
              "      <td>0</td>\n",
              "      <td>0</td>\n",
              "    </tr>\n",
              "    <tr>\n",
              "      <th>7</th>\n",
              "      <td>U15634Z2</td>\n",
              "      <td>1</td>\n",
              "      <td>L104D99</td>\n",
              "      <td>4</td>\n",
              "      <td>0</td>\n",
              "      <td>Night</td>\n",
              "      <td>Bus</td>\n",
              "      <td>0</td>\n",
              "      <td>0</td>\n",
              "    </tr>\n",
              "    <tr>\n",
              "      <th>8</th>\n",
              "      <td>U15631Z2</td>\n",
              "      <td>1</td>\n",
              "      <td>L104D99</td>\n",
              "      <td>4</td>\n",
              "      <td>0</td>\n",
              "      <td>Night</td>\n",
              "      <td>Bus</td>\n",
              "      <td>0</td>\n",
              "      <td>0</td>\n",
              "    </tr>\n",
              "    <tr>\n",
              "      <th>9</th>\n",
              "      <td>U15632Z1</td>\n",
              "      <td>1</td>\n",
              "      <td>L104D99</td>\n",
              "      <td>4</td>\n",
              "      <td>0</td>\n",
              "      <td>Night</td>\n",
              "      <td>Bus</td>\n",
              "      <td>0</td>\n",
              "      <td>0</td>\n",
              "    </tr>\n",
              "  </tbody>\n",
              "</table>\n",
              "</div>"
            ],
            "text/plain": [
              "    stop_id  trip_id route_id  hour  is_rush_hour time_period route_type_name  \\\n",
              "0  U15775Z2        1  L104D99     4             0       Night             Bus   \n",
              "1  U15773Z2        1  L104D99     4             0       Night             Bus   \n",
              "2  U15627Z2        1  L104D99     4             0       Night             Bus   \n",
              "3  U15640Z2        1  L104D99     4             0       Night             Bus   \n",
              "4  U15639Z2        1  L104D99     4             0       Night             Bus   \n",
              "5  U15637Z2        1  L104D99     4             0       Night             Bus   \n",
              "6  U15628Z2        1  L104D99     4             0       Night             Bus   \n",
              "7  U15634Z2        1  L104D99     4             0       Night             Bus   \n",
              "8  U15631Z2        1  L104D99     4             0       Night             Bus   \n",
              "9  U15632Z1        1  L104D99     4             0       Night             Bus   \n",
              "\n",
              "   is_first_stop  is_last_stop  \n",
              "0              1             0  \n",
              "1              0             0  \n",
              "2              0             0  \n",
              "3              0             0  \n",
              "4              0             0  \n",
              "5              0             0  \n",
              "6              0             0  \n",
              "7              0             0  \n",
              "8              0             0  \n",
              "9              0             0  "
            ]
          },
          "metadata": {},
          "output_type": "display_data"
        }
      ],
      "source": [
        "# Create engineered features\n",
        "features_df = gtfs.create_features()\n",
        "\n",
        "# Display sample of engineered features\n",
        "print(\"\\n🔍 Sample of Engineered Features:\")\n",
        "print(\"=\" * 50)\n",
        "display(features_df[[\n",
        "    'stop_id', 'trip_id', 'route_id', 'hour', 'is_rush_hour', \n",
        "    'time_period', 'route_type_name', 'is_first_stop', 'is_last_stop'\n",
        "]].head(10))"
      ]
    },
    {
      "cell_type": "code",
      "execution_count": 9,
      "metadata": {},
      "outputs": [
        {
          "name": "stdout",
          "output_type": "stream",
          "text": [
            "Calculating travel times...\n",
            "✓ Calculated travel times for 905588 segments\n",
            "\n",
            "⏱️ Travel Time Analysis:\n",
            "========================================\n",
            "Total segments analyzed: 905,588\n",
            "Average travel time: 1.81 minutes\n",
            "Average distance: 0.83 km\n",
            "Average speed: 25.36 km/h\n",
            "✓ Calculated travel times for 905588 segments\n",
            "\n",
            "⏱️ Travel Time Analysis:\n",
            "========================================\n",
            "Total segments analyzed: 905,588\n",
            "Average travel time: 1.81 minutes\n",
            "Average distance: 0.83 km\n",
            "Average speed: 25.36 km/h\n"
          ]
        },
        {
          "data": {
            "application/vnd.microsoft.datawrangler.viewer.v0+json": {
              "columns": [
                {
                  "name": "index",
                  "rawType": "int64",
                  "type": "integer"
                },
                {
                  "name": "trip_id",
                  "rawType": "int64",
                  "type": "integer"
                },
                {
                  "name": "from_stop_id",
                  "rawType": "object",
                  "type": "string"
                },
                {
                  "name": "to_stop_id",
                  "rawType": "object",
                  "type": "string"
                },
                {
                  "name": "from_stop_sequence",
                  "rawType": "int64",
                  "type": "integer"
                },
                {
                  "name": "to_stop_sequence",
                  "rawType": "int64",
                  "type": "integer"
                },
                {
                  "name": "departure_time",
                  "rawType": "object",
                  "type": "string"
                },
                {
                  "name": "arrival_time",
                  "rawType": "object",
                  "type": "string"
                },
                {
                  "name": "travel_time_minutes",
                  "rawType": "float64",
                  "type": "float"
                },
                {
                  "name": "distance_km",
                  "rawType": "float64",
                  "type": "float"
                },
                {
                  "name": "speed_kmh",
                  "rawType": "float64",
                  "type": "float"
                }
              ],
              "ref": "09597898-54bd-40e0-bd32-baa3e37d3e9c",
              "rows": [
                [
                  "0",
                  "1",
                  "U15775Z2",
                  "U15773Z2",
                  "1",
                  "2",
                  "4:32:00",
                  "4:34:00",
                  "2.0",
                  "1.1488811587489027",
                  "34.46643476246708"
                ],
                [
                  "1",
                  "1",
                  "U15773Z2",
                  "U15627Z2",
                  "2",
                  "3",
                  "4:34:00",
                  "4:39:00",
                  "5.0",
                  "4.0386134400194",
                  "48.4633612802328"
                ],
                [
                  "2",
                  "1",
                  "U15627Z2",
                  "U15640Z2",
                  "3",
                  "4",
                  "4:39:00",
                  "4:41:00",
                  "2.0",
                  "0.6705033493827846",
                  "20.115100481483537"
                ],
                [
                  "3",
                  "1",
                  "U15640Z2",
                  "U15639Z2",
                  "4",
                  "5",
                  "4:41:00",
                  "4:43:00",
                  "2.0",
                  "1.0016818052222332",
                  "30.050454156666994"
                ],
                [
                  "4",
                  "1",
                  "U15639Z2",
                  "U15637Z2",
                  "5",
                  "6",
                  "4:43:00",
                  "4:46:00",
                  "3.0",
                  "1.1561065844870229",
                  "23.122131689740456"
                ]
              ],
              "shape": {
                "columns": 10,
                "rows": 5
              }
            },
            "text/html": [
              "<div>\n",
              "<style scoped>\n",
              "    .dataframe tbody tr th:only-of-type {\n",
              "        vertical-align: middle;\n",
              "    }\n",
              "\n",
              "    .dataframe tbody tr th {\n",
              "        vertical-align: top;\n",
              "    }\n",
              "\n",
              "    .dataframe thead th {\n",
              "        text-align: right;\n",
              "    }\n",
              "</style>\n",
              "<table border=\"1\" class=\"dataframe\">\n",
              "  <thead>\n",
              "    <tr style=\"text-align: right;\">\n",
              "      <th></th>\n",
              "      <th>trip_id</th>\n",
              "      <th>from_stop_id</th>\n",
              "      <th>to_stop_id</th>\n",
              "      <th>from_stop_sequence</th>\n",
              "      <th>to_stop_sequence</th>\n",
              "      <th>departure_time</th>\n",
              "      <th>arrival_time</th>\n",
              "      <th>travel_time_minutes</th>\n",
              "      <th>distance_km</th>\n",
              "      <th>speed_kmh</th>\n",
              "    </tr>\n",
              "  </thead>\n",
              "  <tbody>\n",
              "    <tr>\n",
              "      <th>0</th>\n",
              "      <td>1</td>\n",
              "      <td>U15775Z2</td>\n",
              "      <td>U15773Z2</td>\n",
              "      <td>1</td>\n",
              "      <td>2</td>\n",
              "      <td>4:32:00</td>\n",
              "      <td>4:34:00</td>\n",
              "      <td>2.0</td>\n",
              "      <td>1.148881</td>\n",
              "      <td>34.466435</td>\n",
              "    </tr>\n",
              "    <tr>\n",
              "      <th>1</th>\n",
              "      <td>1</td>\n",
              "      <td>U15773Z2</td>\n",
              "      <td>U15627Z2</td>\n",
              "      <td>2</td>\n",
              "      <td>3</td>\n",
              "      <td>4:34:00</td>\n",
              "      <td>4:39:00</td>\n",
              "      <td>5.0</td>\n",
              "      <td>4.038613</td>\n",
              "      <td>48.463361</td>\n",
              "    </tr>\n",
              "    <tr>\n",
              "      <th>2</th>\n",
              "      <td>1</td>\n",
              "      <td>U15627Z2</td>\n",
              "      <td>U15640Z2</td>\n",
              "      <td>3</td>\n",
              "      <td>4</td>\n",
              "      <td>4:39:00</td>\n",
              "      <td>4:41:00</td>\n",
              "      <td>2.0</td>\n",
              "      <td>0.670503</td>\n",
              "      <td>20.115100</td>\n",
              "    </tr>\n",
              "    <tr>\n",
              "      <th>3</th>\n",
              "      <td>1</td>\n",
              "      <td>U15640Z2</td>\n",
              "      <td>U15639Z2</td>\n",
              "      <td>4</td>\n",
              "      <td>5</td>\n",
              "      <td>4:41:00</td>\n",
              "      <td>4:43:00</td>\n",
              "      <td>2.0</td>\n",
              "      <td>1.001682</td>\n",
              "      <td>30.050454</td>\n",
              "    </tr>\n",
              "    <tr>\n",
              "      <th>4</th>\n",
              "      <td>1</td>\n",
              "      <td>U15639Z2</td>\n",
              "      <td>U15637Z2</td>\n",
              "      <td>5</td>\n",
              "      <td>6</td>\n",
              "      <td>4:43:00</td>\n",
              "      <td>4:46:00</td>\n",
              "      <td>3.0</td>\n",
              "      <td>1.156107</td>\n",
              "      <td>23.122132</td>\n",
              "    </tr>\n",
              "  </tbody>\n",
              "</table>\n",
              "</div>"
            ],
            "text/plain": [
              "   trip_id from_stop_id to_stop_id  from_stop_sequence  to_stop_sequence  \\\n",
              "0        1     U15775Z2   U15773Z2                   1                 2   \n",
              "1        1     U15773Z2   U15627Z2                   2                 3   \n",
              "2        1     U15627Z2   U15640Z2                   3                 4   \n",
              "3        1     U15640Z2   U15639Z2                   4                 5   \n",
              "4        1     U15639Z2   U15637Z2                   5                 6   \n",
              "\n",
              "  departure_time arrival_time  travel_time_minutes  distance_km  speed_kmh  \n",
              "0        4:32:00      4:34:00                  2.0     1.148881  34.466435  \n",
              "1        4:34:00      4:39:00                  5.0     4.038613  48.463361  \n",
              "2        4:39:00      4:41:00                  2.0     0.670503  20.115100  \n",
              "3        4:41:00      4:43:00                  2.0     1.001682  30.050454  \n",
              "4        4:43:00      4:46:00                  3.0     1.156107  23.122132  "
            ]
          },
          "metadata": {},
          "output_type": "display_data"
        }
      ],
      "source": [
        "# Calculate travel times between stops\n",
        "travel_times_df = gtfs.calculate_travel_times()\n",
        "\n",
        "print(\"\\n⏱️ Travel Time Analysis:\")\n",
        "print(\"=\" * 40)\n",
        "print(f\"Total segments analyzed: {len(travel_times_df):,}\")\n",
        "print(f\"Average travel time: {travel_times_df['travel_time_minutes'].mean():.2f} minutes\")\n",
        "print(f\"Average distance: {travel_times_df['distance_km'].mean():.2f} km\")\n",
        "print(f\"Average speed: {travel_times_df['speed_kmh'].mean():.2f} km/h\")\n",
        "\n",
        "# Display sample\n",
        "display(travel_times_df.head())"
      ]
    },
    {
      "cell_type": "markdown",
      "metadata": {},
      "source": [
        "## 🗺️ Network Analysis and Routing"
      ]
    },
    {
      "cell_type": "code",
      "execution_count": 10,
      "metadata": {},
      "outputs": [
        {
          "name": "stdout",
          "output_type": "stream",
          "text": [
            "Building transit network with travel_time weights...\n",
            "✓ Built network with 10911 nodes and 15439 edges\n",
            "\n",
            "🕸️ Network Analysis Results:\n",
            "========================================\n",
            "num_nodes: 10911\n",
            "num_edges: 15439\n",
            "is_connected: False\n",
            "num_connected_components: 3256\n",
            "average_degree: 2.830\n",
            "network_density: 0.000\n",
            "average_clustering: 0.091\n",
            "✓ Built network with 10911 nodes and 15439 edges\n",
            "\n",
            "🕸️ Network Analysis Results:\n",
            "========================================\n",
            "num_nodes: 10911\n",
            "num_edges: 15439\n",
            "is_connected: False\n",
            "num_connected_components: 3256\n",
            "average_degree: 2.830\n",
            "network_density: 0.000\n",
            "average_clustering: 0.091\n"
          ]
        }
      ],
      "source": [
        "# Initialize transit router\n",
        "router = TransitRouter(gtfs)\n",
        "\n",
        "# Build network graph\n",
        "network_graph = router.build_network(weight_type='travel_time')\n",
        "\n",
        "# Get network statistics\n",
        "network_stats = router.get_network_statistics()\n",
        "\n",
        "print(\"\\n🕸️ Network Analysis Results:\")\n",
        "print(\"=\" * 40)\n",
        "for key, value in network_stats.items():\n",
        "    if isinstance(value, float):\n",
        "        print(f\"{key}: {value:.3f}\")\n",
        "    else:\n",
        "        print(f\"{key}: {value}\")"
      ]
    },
    {
      "cell_type": "code",
      "execution_count": 11,
      "metadata": {},
      "outputs": [
        {
          "name": "stdout",
          "output_type": "stream",
          "text": [
            "Calculating centrality measures: ['degree', 'betweenness', 'closeness']\n",
            "  Computing degree centrality...\n",
            "  Computing betweenness centrality...\n",
            "  Computing closeness centrality...\n",
            "  Computing closeness centrality...\n",
            "✓ Centrality analysis completed\n",
            "\n",
            "🎯 Most Important Stops by Centrality:\n",
            "==================================================\n",
            "\n",
            "Degree Centrality:\n",
            "  1. Hlavní nádraží (U1146Z99): 68.0000\n",
            "  2. Hlavní nádraží (U1146Z98): 66.0000\n",
            "  3. Hlavní nádraží (U1146Z2): 61.0000\n",
            "  4. Hlavní nádraží (U1146Z1): 61.0000\n",
            "  5. Hlavní nádraží (U1146Z3): 58.0000\n",
            "\n",
            "Betweenness Centrality:\n",
            "  1. Vyškov, železniční stanice (U17446Z1): 127.3069\n",
            "  2. Boskovice, aut.st. (U12635Z12): 6.5215\n",
            "  3. Boskovice, aut.st. (U12635Z2): 5.7266\n",
            "  4. Blansko, aut. st. (U12342Z31): 4.4403\n",
            "  5. Znojmo, autobusové nádraží (U18009Z51): 4.3717\n",
            "\n",
            "Closeness Centrality:\n",
            "  1. Hlavní nádraží (U1146Z99): 0.0172\n",
            "  2. Hlavní nádraží (U1146Z98): 0.0171\n",
            "  3. Hlavní nádraží (U1146Z2): 0.0169\n",
            "  4. Hlavní nádraží (U1146Z1): 0.0169\n",
            "  5. Hlavní nádraží (U1146Z3): 0.0169\n",
            "✓ Centrality analysis completed\n",
            "\n",
            "🎯 Most Important Stops by Centrality:\n",
            "==================================================\n",
            "\n",
            "Degree Centrality:\n",
            "  1. Hlavní nádraží (U1146Z99): 68.0000\n",
            "  2. Hlavní nádraží (U1146Z98): 66.0000\n",
            "  3. Hlavní nádraží (U1146Z2): 61.0000\n",
            "  4. Hlavní nádraží (U1146Z1): 61.0000\n",
            "  5. Hlavní nádraží (U1146Z3): 58.0000\n",
            "\n",
            "Betweenness Centrality:\n",
            "  1. Vyškov, železniční stanice (U17446Z1): 127.3069\n",
            "  2. Boskovice, aut.st. (U12635Z12): 6.5215\n",
            "  3. Boskovice, aut.st. (U12635Z2): 5.7266\n",
            "  4. Blansko, aut. st. (U12342Z31): 4.4403\n",
            "  5. Znojmo, autobusové nádraží (U18009Z51): 4.3717\n",
            "\n",
            "Closeness Centrality:\n",
            "  1. Hlavní nádraží (U1146Z99): 0.0172\n",
            "  2. Hlavní nádraží (U1146Z98): 0.0171\n",
            "  3. Hlavní nádraží (U1146Z2): 0.0169\n",
            "  4. Hlavní nádraží (U1146Z1): 0.0169\n",
            "  5. Hlavní nádraží (U1146Z3): 0.0169\n"
          ]
        }
      ],
      "source": [
        "# Analyze network centrality\n",
        "centrality_measures = router.analyze_centrality(['degree', 'betweenness', 'closeness'])\n",
        "\n",
        "# Find most important stops\n",
        "print(\"\\n🎯 Most Important Stops by Centrality:\")\n",
        "print(\"=\" * 50)\n",
        "\n",
        "for measure, values in centrality_measures.items():\n",
        "    if values:  # Check if values exist\n",
        "        top_stops = sorted(values.items(), key=lambda x: x[1], reverse=True)[:5]\n",
        "        print(f\"\\n{measure.capitalize()} Centrality:\")\n",
        "        for i, (stop_id, score) in enumerate(top_stops, 1):\n",
        "            stop_name = \"Unknown\"\n",
        "            if gtfs.stops is not None:\n",
        "                stop_info = gtfs.stops[gtfs.stops['stop_id'] == stop_id]\n",
        "                if len(stop_info) > 0:\n",
        "                    stop_name = stop_info.iloc[0].get('stop_name', 'Unknown')\n",
        "            print(f\"  {i}. {stop_name} ({stop_id}): {score:.4f}\")"
      ]
    },
    {
      "cell_type": "code",
      "execution_count": 12,
      "metadata": {},
      "outputs": [
        {
          "name": "stdout",
          "output_type": "stream",
          "text": [
            "\n",
            "🎯 Shortest Path Analysis:\n",
            "========================================\n",
            "From: U15775Z2\n",
            "To: U15635Z2\n",
            "\n",
            "✅ Path found!\n",
            "Number of stops: 7\n",
            "Total cost: 16.00 minutes\n",
            "Path: U15775Z2 → U15773Z2 → U15627Z2 → U15634Z2 → U15631Z2...\n"
          ]
        }
      ],
      "source": [
        "# Demonstrate shortest path finding\n",
        "if gtfs.stops is not None and len(gtfs.stops) > 1:\n",
        "    # Get two random stops for demonstration\n",
        "    stops = gtfs.stops['stop_id'].tolist()\n",
        "    start_stop = stops[0]\n",
        "    end_stop = stops[min(len(stops)-1, 10)]  # Pick a stop not too far for demo\n",
        "    \n",
        "    print(\"\\n🎯 Shortest Path Analysis:\")\n",
        "    print(\"=\" * 40)\n",
        "    print(f\"From: {start_stop}\")\n",
        "    print(f\"To: {end_stop}\")\n",
        "    \n",
        "    # Find shortest path\n",
        "    try:\n",
        "        path, cost = router.find_shortest_path(start_stop, end_stop)\n",
        "        if path:\n",
        "            print(\"\\n✅ Path found!\")\n",
        "            print(f\"Number of stops: {len(path)}\")\n",
        "            print(f\"Total cost: {cost:.2f} minutes\")\n",
        "            print(f\"Path: {' → '.join(path[:5])}{'...' if len(path) > 5 else ''}\")\n",
        "        else:\n",
        "            print(\"❌ No path found between these stops\")\n",
        "    except Exception as e:\n",
        "        print(f\"⚠️ Error finding path: {e}\")"
      ]
    },
    {
      "cell_type": "markdown",
      "metadata": {},
      "source": [
        "## 🤖 Machine Learning: Delay Prediction"
      ]
    },
    {
      "cell_type": "code",
      "execution_count": 13,
      "metadata": {},
      "outputs": [
        {
          "name": "stdout",
          "output_type": "stream",
          "text": [
            "Preparing training data for delay prediction...\n",
            "Creating engineered features...\n",
            "✓ Created features for 961814 records\n",
            "✓ Prepared training data with 853517 records and 9 features\n",
            "\n",
            "🎲 Training Data for Delay Prediction:\n",
            "=============================================\n",
            "Training samples: 853,517\n",
            "Features: 9\n",
            "\n",
            "Delay Statistics:\n",
            "  Mean delay: 5.01 minutes\n",
            "  Median delay: 2.56 minutes\n",
            "  Max delay: 204.42 minutes\n",
            "  Min delay: -12.65 minutes\n",
            "✓ Created features for 961814 records\n",
            "✓ Prepared training data with 853517 records and 9 features\n",
            "\n",
            "🎲 Training Data for Delay Prediction:\n",
            "=============================================\n",
            "Training samples: 853,517\n",
            "Features: 9\n",
            "\n",
            "Delay Statistics:\n",
            "  Mean delay: 5.01 minutes\n",
            "  Median delay: 2.56 minutes\n",
            "  Max delay: 204.42 minutes\n",
            "  Min delay: -12.65 minutes\n"
          ]
        },
        {
          "data": {
            "application/vnd.microsoft.datawrangler.viewer.v0+json": {
              "columns": [
                {
                  "name": "index",
                  "rawType": "int64",
                  "type": "integer"
                },
                {
                  "name": "hour",
                  "rawType": "int64",
                  "type": "integer"
                },
                {
                  "name": "is_rush_hour",
                  "rawType": "int64",
                  "type": "integer"
                },
                {
                  "name": "route_type",
                  "rawType": "int64",
                  "type": "integer"
                },
                {
                  "name": "time_period",
                  "rawType": "object",
                  "type": "string"
                },
                {
                  "name": "route_type_name",
                  "rawType": "object",
                  "type": "string"
                },
                {
                  "name": "stop_sequence",
                  "rawType": "int64",
                  "type": "integer"
                },
                {
                  "name": "is_first_stop",
                  "rawType": "int64",
                  "type": "integer"
                },
                {
                  "name": "is_last_stop",
                  "rawType": "int64",
                  "type": "integer"
                },
                {
                  "name": "weather_condition",
                  "rawType": "int64",
                  "type": "integer"
                },
                {
                  "name": "delay_minutes",
                  "rawType": "float64",
                  "type": "float"
                }
              ],
              "ref": "058d9bcb-c3ef-4bf9-81c9-72f21a53b261",
              "rows": [
                [
                  "0",
                  "4",
                  "0",
                  "3",
                  "Night",
                  "Bus",
                  "1",
                  "1",
                  "0",
                  "0",
                  "1.2200970339398336"
                ],
                [
                  "1",
                  "4",
                  "0",
                  "3",
                  "Night",
                  "Bus",
                  "2",
                  "0",
                  "0",
                  "2",
                  "25.397271925260448"
                ],
                [
                  "2",
                  "4",
                  "0",
                  "3",
                  "Night",
                  "Bus",
                  "3",
                  "0",
                  "0",
                  "1",
                  "5.826867438577253"
                ],
                [
                  "3",
                  "4",
                  "0",
                  "3",
                  "Night",
                  "Bus",
                  "4",
                  "0",
                  "0",
                  "1",
                  "-0.4712198163772089"
                ],
                [
                  "4",
                  "4",
                  "0",
                  "3",
                  "Night",
                  "Bus",
                  "5",
                  "0",
                  "0",
                  "2",
                  "4.3444987017736985"
                ]
              ],
              "shape": {
                "columns": 10,
                "rows": 5
              }
            },
            "text/html": [
              "<div>\n",
              "<style scoped>\n",
              "    .dataframe tbody tr th:only-of-type {\n",
              "        vertical-align: middle;\n",
              "    }\n",
              "\n",
              "    .dataframe tbody tr th {\n",
              "        vertical-align: top;\n",
              "    }\n",
              "\n",
              "    .dataframe thead th {\n",
              "        text-align: right;\n",
              "    }\n",
              "</style>\n",
              "<table border=\"1\" class=\"dataframe\">\n",
              "  <thead>\n",
              "    <tr style=\"text-align: right;\">\n",
              "      <th></th>\n",
              "      <th>hour</th>\n",
              "      <th>is_rush_hour</th>\n",
              "      <th>route_type</th>\n",
              "      <th>time_period</th>\n",
              "      <th>route_type_name</th>\n",
              "      <th>stop_sequence</th>\n",
              "      <th>is_first_stop</th>\n",
              "      <th>is_last_stop</th>\n",
              "      <th>weather_condition</th>\n",
              "      <th>delay_minutes</th>\n",
              "    </tr>\n",
              "  </thead>\n",
              "  <tbody>\n",
              "    <tr>\n",
              "      <th>0</th>\n",
              "      <td>4</td>\n",
              "      <td>0</td>\n",
              "      <td>3</td>\n",
              "      <td>Night</td>\n",
              "      <td>Bus</td>\n",
              "      <td>1</td>\n",
              "      <td>1</td>\n",
              "      <td>0</td>\n",
              "      <td>0</td>\n",
              "      <td>1.220097</td>\n",
              "    </tr>\n",
              "    <tr>\n",
              "      <th>1</th>\n",
              "      <td>4</td>\n",
              "      <td>0</td>\n",
              "      <td>3</td>\n",
              "      <td>Night</td>\n",
              "      <td>Bus</td>\n",
              "      <td>2</td>\n",
              "      <td>0</td>\n",
              "      <td>0</td>\n",
              "      <td>2</td>\n",
              "      <td>25.397272</td>\n",
              "    </tr>\n",
              "    <tr>\n",
              "      <th>2</th>\n",
              "      <td>4</td>\n",
              "      <td>0</td>\n",
              "      <td>3</td>\n",
              "      <td>Night</td>\n",
              "      <td>Bus</td>\n",
              "      <td>3</td>\n",
              "      <td>0</td>\n",
              "      <td>0</td>\n",
              "      <td>1</td>\n",
              "      <td>5.826867</td>\n",
              "    </tr>\n",
              "    <tr>\n",
              "      <th>3</th>\n",
              "      <td>4</td>\n",
              "      <td>0</td>\n",
              "      <td>3</td>\n",
              "      <td>Night</td>\n",
              "      <td>Bus</td>\n",
              "      <td>4</td>\n",
              "      <td>0</td>\n",
              "      <td>0</td>\n",
              "      <td>1</td>\n",
              "      <td>-0.471220</td>\n",
              "    </tr>\n",
              "    <tr>\n",
              "      <th>4</th>\n",
              "      <td>4</td>\n",
              "      <td>0</td>\n",
              "      <td>3</td>\n",
              "      <td>Night</td>\n",
              "      <td>Bus</td>\n",
              "      <td>5</td>\n",
              "      <td>0</td>\n",
              "      <td>0</td>\n",
              "      <td>2</td>\n",
              "      <td>4.344499</td>\n",
              "    </tr>\n",
              "  </tbody>\n",
              "</table>\n",
              "</div>"
            ],
            "text/plain": [
              "   hour  is_rush_hour  route_type time_period route_type_name  stop_sequence  \\\n",
              "0     4             0           3       Night             Bus              1   \n",
              "1     4             0           3       Night             Bus              2   \n",
              "2     4             0           3       Night             Bus              3   \n",
              "3     4             0           3       Night             Bus              4   \n",
              "4     4             0           3       Night             Bus              5   \n",
              "\n",
              "   is_first_stop  is_last_stop  weather_condition  delay_minutes  \n",
              "0              1             0                  0       1.220097  \n",
              "1              0             0                  2      25.397272  \n",
              "2              0             0                  1       5.826867  \n",
              "3              0             0                  1      -0.471220  \n",
              "4              0             0                  2       4.344499  "
            ]
          },
          "metadata": {},
          "output_type": "display_data"
        }
      ],
      "source": [
        "# Initialize delay predictor\n",
        "delay_predictor = DelayPredictor(gtfs)\n",
        "\n",
        "# Prepare training data (with simulated delays)\n",
        "training_data = delay_predictor.prepare_training_data(simulate_delays=True)\n",
        "\n",
        "print(\"\\n🎲 Training Data for Delay Prediction:\")\n",
        "print(\"=\" * 45)\n",
        "print(f\"Training samples: {len(training_data):,}\")\n",
        "print(f\"Features: {len([col for col in training_data.columns if col != 'delay_minutes'])}\")\n",
        "print(\"\\nDelay Statistics:\")\n",
        "print(f\"  Mean delay: {training_data['delay_minutes'].mean():.2f} minutes\")\n",
        "print(f\"  Median delay: {training_data['delay_minutes'].median():.2f} minutes\")\n",
        "print(f\"  Max delay: {training_data['delay_minutes'].max():.2f} minutes\")\n",
        "print(f\"  Min delay: {training_data['delay_minutes'].min():.2f} minutes\")\n",
        "\n",
        "# Show sample\n",
        "display(training_data.head())"
      ]
    },
    {
      "cell_type": "code",
      "execution_count": 14,
      "metadata": {},
      "outputs": [
        {
          "name": "stdout",
          "output_type": "stream",
          "text": [
            "Training random_forest model for delay prediction...\n",
            "✓ Model training completed\n",
            "\n",
            "🎯 Model Training Results:\n",
            "========================================\n",
            "Training MAE: 4.055 minutes\n",
            "Test MAE: 4.062 minutes\n",
            "Training RMSE: 6.679 minutes\n",
            "Test RMSE: 6.697 minutes\n",
            "Training R²: 0.299\n",
            "Test R²: 0.296\n",
            "CV MAE: 4.069 ± 0.094\n",
            "\n",
            "🔍 Top 5 Most Important Features:\n",
            "  1. weather_condition: 0.5596\n",
            "  2. is_rush_hour: 0.4092\n",
            "  3. stop_sequence: 0.0143\n",
            "  4. hour: 0.0074\n",
            "  5. route_type: 0.0034\n",
            "✓ Model training completed\n",
            "\n",
            "🎯 Model Training Results:\n",
            "========================================\n",
            "Training MAE: 4.055 minutes\n",
            "Test MAE: 4.062 minutes\n",
            "Training RMSE: 6.679 minutes\n",
            "Test RMSE: 6.697 minutes\n",
            "Training R²: 0.299\n",
            "Test R²: 0.296\n",
            "CV MAE: 4.069 ± 0.094\n",
            "\n",
            "🔍 Top 5 Most Important Features:\n",
            "  1. weather_condition: 0.5596\n",
            "  2. is_rush_hour: 0.4092\n",
            "  3. stop_sequence: 0.0143\n",
            "  4. hour: 0.0074\n",
            "  5. route_type: 0.0034\n"
          ]
        }
      ],
      "source": [
        "# Train the delay prediction model\n",
        "training_results = delay_predictor.train_model(training_data, model_type='random_forest')\n",
        "\n",
        "print(\"\\n🎯 Model Training Results:\")\n",
        "print(\"=\" * 40)\n",
        "print(f\"Training MAE: {training_results['train_mae']:.3f} minutes\")\n",
        "print(f\"Test MAE: {training_results['test_mae']:.3f} minutes\")\n",
        "print(f\"Training RMSE: {training_results['train_rmse']:.3f} minutes\")\n",
        "print(f\"Test RMSE: {training_results['test_rmse']:.3f} minutes\")\n",
        "print(f\"Training R²: {training_results['train_r2']:.3f}\")\n",
        "print(f\"Test R²: {training_results['test_r2']:.3f}\")\n",
        "print(f\"CV MAE: {training_results['cv_mae']:.3f} ± {training_results['cv_mae_std']:.3f}\")\n",
        "\n",
        "# Feature importance\n",
        "if 'feature_importance' in training_results:\n",
        "    print(\"\\n🔍 Top 5 Most Important Features:\")\n",
        "    for i, feature in enumerate(training_results['feature_importance'][:5], 1):\n",
        "        print(f\"  {i}. {feature['feature']}: {feature['importance']:.4f}\")"
      ]
    },
    {
      "cell_type": "code",
      "execution_count": 15,
      "metadata": {},
      "outputs": [
        {
          "name": "stdout",
          "output_type": "stream",
          "text": [
            "\n",
            "🔮 Delay Prediction Examples:\n",
            "========================================\n",
            "\n",
            "Morning Rush Hour - Bus:\n",
            "  Predicted delay: 5.34 minutes\n",
            "  Scenario: 08:00, Weather level: 0\n",
            "\n",
            "Midday - Subway:\n",
            "  Predicted delay: 5.54 minutes\n",
            "  Scenario: 14:00, Weather level: 1\n",
            "\n",
            "Evening Rush - Tram:\n",
            "  Predicted delay: 20.74 minutes\n",
            "  Scenario: 18:00, Weather level: 2\n"
          ]
        }
      ],
      "source": [
        "# Demonstrate delay prediction\n",
        "print(\"\\n🔮 Delay Prediction Examples:\")\n",
        "print(\"=\" * 40)\n",
        "\n",
        "# Create sample scenarios\n",
        "scenarios = [\n",
        "    {\n",
        "        'name': 'Morning Rush Hour - Bus',\n",
        "        'hour': 8,\n",
        "        'is_rush_hour': 1,\n",
        "        'route_type': 3,  # Bus\n",
        "        'stop_sequence': 5,\n",
        "        'weather_condition': 0  # Normal weather\n",
        "    },\n",
        "    {\n",
        "        'name': 'Midday - Subway',\n",
        "        'hour': 14,\n",
        "        'is_rush_hour': 0,\n",
        "        'route_type': 1,  # Subway\n",
        "        'stop_sequence': 10,\n",
        "        'weather_condition': 1  # Mild weather issues\n",
        "    },\n",
        "    {\n",
        "        'name': 'Evening Rush - Tram',\n",
        "        'hour': 18,\n",
        "        'is_rush_hour': 1,\n",
        "        'route_type': 0,  # Tram\n",
        "        'stop_sequence': 3,\n",
        "        'weather_condition': 2  # Severe weather\n",
        "    }\n",
        "]\n",
        "\n",
        "for scenario in scenarios:\n",
        "    prediction = delay_predictor.predict_delay(scenario)\n",
        "    print(f\"\\n{scenario['name']}:\")\n",
        "    print(f\"  Predicted delay: {prediction:.2f} minutes\")\n",
        "    print(f\"  Scenario: {scenario['hour']:02d}:00, Weather level: {scenario['weather_condition']}\")"
      ]
    },
    {
      "cell_type": "markdown",
      "metadata": {},
      "source": [
        "## 📈 Demand Forecasting"
      ]
    },
    {
      "cell_type": "code",
      "execution_count": 16,
      "metadata": {},
      "outputs": [
        {
          "name": "stdout",
          "output_type": "stream",
          "text": [
            "Simulating ridership data for 30 days...\n",
            "✓ Simulated 28500 ridership records\n",
            "\n",
            "📊 Ridership Data Simulation:\n",
            "========================================\n",
            "Total records: 28,500\n",
            "Date range: 2024-01-01 to 2024-01-30\n",
            "Total ridership: 1,763,327\n",
            "Average daily ridership: 58778\n",
            "✓ Simulated 28500 ridership records\n",
            "\n",
            "📊 Ridership Data Simulation:\n",
            "========================================\n",
            "Total records: 28,500\n",
            "Date range: 2024-01-01 to 2024-01-30\n",
            "Total ridership: 1,763,327\n",
            "Average daily ridership: 58778\n"
          ]
        },
        {
          "data": {
            "application/vnd.microsoft.datawrangler.viewer.v0+json": {
              "columns": [
                {
                  "name": "index",
                  "rawType": "int64",
                  "type": "integer"
                },
                {
                  "name": "date",
                  "rawType": "object",
                  "type": "unknown"
                },
                {
                  "name": "hour",
                  "rawType": "int64",
                  "type": "integer"
                },
                {
                  "name": "stop_id",
                  "rawType": "object",
                  "type": "string"
                },
                {
                  "name": "route_id",
                  "rawType": "object",
                  "type": "string"
                },
                {
                  "name": "ridership",
                  "rawType": "int64",
                  "type": "integer"
                },
                {
                  "name": "is_weekend",
                  "rawType": "bool",
                  "type": "boolean"
                },
                {
                  "name": "is_holiday",
                  "rawType": "bool",
                  "type": "boolean"
                },
                {
                  "name": "day_of_week",
                  "rawType": "int64",
                  "type": "integer"
                },
                {
                  "name": "month",
                  "rawType": "int64",
                  "type": "integer"
                }
              ],
              "ref": "b9efadbe-a42a-4b9c-8d35-3c00ffc08af2",
              "rows": [
                [
                  "0",
                  "2024-01-01",
                  "5",
                  "U15775Z2",
                  "L5D99",
                  "7",
                  "False",
                  "True",
                  "0",
                  "1"
                ],
                [
                  "1",
                  "2024-01-01",
                  "5",
                  "U15773Z2",
                  "L259D99",
                  "5",
                  "False",
                  "True",
                  "0",
                  "1"
                ],
                [
                  "2",
                  "2024-01-01",
                  "5",
                  "U15627Z2",
                  "L835D99",
                  "9",
                  "False",
                  "True",
                  "0",
                  "1"
                ],
                [
                  "3",
                  "2024-01-01",
                  "5",
                  "U15640Z2",
                  "L812D99",
                  "15",
                  "False",
                  "True",
                  "0",
                  "1"
                ],
                [
                  "4",
                  "2024-01-01",
                  "5",
                  "U15639Z2",
                  "L502D99",
                  "4",
                  "False",
                  "True",
                  "0",
                  "1"
                ],
                [
                  "5",
                  "2024-01-01",
                  "5",
                  "U15637Z2",
                  "L541D99",
                  "4",
                  "False",
                  "True",
                  "0",
                  "1"
                ],
                [
                  "6",
                  "2024-01-01",
                  "5",
                  "U15628Z2",
                  "L166D99",
                  "12",
                  "False",
                  "True",
                  "0",
                  "1"
                ],
                [
                  "7",
                  "2024-01-01",
                  "5",
                  "U15634Z2",
                  "L668D99",
                  "9",
                  "False",
                  "True",
                  "0",
                  "1"
                ],
                [
                  "8",
                  "2024-01-01",
                  "5",
                  "U15631Z2",
                  "L130D99",
                  "12",
                  "False",
                  "True",
                  "0",
                  "1"
                ],
                [
                  "9",
                  "2024-01-01",
                  "5",
                  "U15632Z1",
                  "L75D99",
                  "9",
                  "False",
                  "True",
                  "0",
                  "1"
                ]
              ],
              "shape": {
                "columns": 9,
                "rows": 10
              }
            },
            "text/html": [
              "<div>\n",
              "<style scoped>\n",
              "    .dataframe tbody tr th:only-of-type {\n",
              "        vertical-align: middle;\n",
              "    }\n",
              "\n",
              "    .dataframe tbody tr th {\n",
              "        vertical-align: top;\n",
              "    }\n",
              "\n",
              "    .dataframe thead th {\n",
              "        text-align: right;\n",
              "    }\n",
              "</style>\n",
              "<table border=\"1\" class=\"dataframe\">\n",
              "  <thead>\n",
              "    <tr style=\"text-align: right;\">\n",
              "      <th></th>\n",
              "      <th>date</th>\n",
              "      <th>hour</th>\n",
              "      <th>stop_id</th>\n",
              "      <th>route_id</th>\n",
              "      <th>ridership</th>\n",
              "      <th>is_weekend</th>\n",
              "      <th>is_holiday</th>\n",
              "      <th>day_of_week</th>\n",
              "      <th>month</th>\n",
              "    </tr>\n",
              "  </thead>\n",
              "  <tbody>\n",
              "    <tr>\n",
              "      <th>0</th>\n",
              "      <td>2024-01-01</td>\n",
              "      <td>5</td>\n",
              "      <td>U15775Z2</td>\n",
              "      <td>L5D99</td>\n",
              "      <td>7</td>\n",
              "      <td>False</td>\n",
              "      <td>True</td>\n",
              "      <td>0</td>\n",
              "      <td>1</td>\n",
              "    </tr>\n",
              "    <tr>\n",
              "      <th>1</th>\n",
              "      <td>2024-01-01</td>\n",
              "      <td>5</td>\n",
              "      <td>U15773Z2</td>\n",
              "      <td>L259D99</td>\n",
              "      <td>5</td>\n",
              "      <td>False</td>\n",
              "      <td>True</td>\n",
              "      <td>0</td>\n",
              "      <td>1</td>\n",
              "    </tr>\n",
              "    <tr>\n",
              "      <th>2</th>\n",
              "      <td>2024-01-01</td>\n",
              "      <td>5</td>\n",
              "      <td>U15627Z2</td>\n",
              "      <td>L835D99</td>\n",
              "      <td>9</td>\n",
              "      <td>False</td>\n",
              "      <td>True</td>\n",
              "      <td>0</td>\n",
              "      <td>1</td>\n",
              "    </tr>\n",
              "    <tr>\n",
              "      <th>3</th>\n",
              "      <td>2024-01-01</td>\n",
              "      <td>5</td>\n",
              "      <td>U15640Z2</td>\n",
              "      <td>L812D99</td>\n",
              "      <td>15</td>\n",
              "      <td>False</td>\n",
              "      <td>True</td>\n",
              "      <td>0</td>\n",
              "      <td>1</td>\n",
              "    </tr>\n",
              "    <tr>\n",
              "      <th>4</th>\n",
              "      <td>2024-01-01</td>\n",
              "      <td>5</td>\n",
              "      <td>U15639Z2</td>\n",
              "      <td>L502D99</td>\n",
              "      <td>4</td>\n",
              "      <td>False</td>\n",
              "      <td>True</td>\n",
              "      <td>0</td>\n",
              "      <td>1</td>\n",
              "    </tr>\n",
              "    <tr>\n",
              "      <th>5</th>\n",
              "      <td>2024-01-01</td>\n",
              "      <td>5</td>\n",
              "      <td>U15637Z2</td>\n",
              "      <td>L541D99</td>\n",
              "      <td>4</td>\n",
              "      <td>False</td>\n",
              "      <td>True</td>\n",
              "      <td>0</td>\n",
              "      <td>1</td>\n",
              "    </tr>\n",
              "    <tr>\n",
              "      <th>6</th>\n",
              "      <td>2024-01-01</td>\n",
              "      <td>5</td>\n",
              "      <td>U15628Z2</td>\n",
              "      <td>L166D99</td>\n",
              "      <td>12</td>\n",
              "      <td>False</td>\n",
              "      <td>True</td>\n",
              "      <td>0</td>\n",
              "      <td>1</td>\n",
              "    </tr>\n",
              "    <tr>\n",
              "      <th>7</th>\n",
              "      <td>2024-01-01</td>\n",
              "      <td>5</td>\n",
              "      <td>U15634Z2</td>\n",
              "      <td>L668D99</td>\n",
              "      <td>9</td>\n",
              "      <td>False</td>\n",
              "      <td>True</td>\n",
              "      <td>0</td>\n",
              "      <td>1</td>\n",
              "    </tr>\n",
              "    <tr>\n",
              "      <th>8</th>\n",
              "      <td>2024-01-01</td>\n",
              "      <td>5</td>\n",
              "      <td>U15631Z2</td>\n",
              "      <td>L130D99</td>\n",
              "      <td>12</td>\n",
              "      <td>False</td>\n",
              "      <td>True</td>\n",
              "      <td>0</td>\n",
              "      <td>1</td>\n",
              "    </tr>\n",
              "    <tr>\n",
              "      <th>9</th>\n",
              "      <td>2024-01-01</td>\n",
              "      <td>5</td>\n",
              "      <td>U15632Z1</td>\n",
              "      <td>L75D99</td>\n",
              "      <td>9</td>\n",
              "      <td>False</td>\n",
              "      <td>True</td>\n",
              "      <td>0</td>\n",
              "      <td>1</td>\n",
              "    </tr>\n",
              "  </tbody>\n",
              "</table>\n",
              "</div>"
            ],
            "text/plain": [
              "         date  hour   stop_id route_id  ridership  is_weekend  is_holiday  \\\n",
              "0  2024-01-01     5  U15775Z2    L5D99          7       False        True   \n",
              "1  2024-01-01     5  U15773Z2  L259D99          5       False        True   \n",
              "2  2024-01-01     5  U15627Z2  L835D99          9       False        True   \n",
              "3  2024-01-01     5  U15640Z2  L812D99         15       False        True   \n",
              "4  2024-01-01     5  U15639Z2  L502D99          4       False        True   \n",
              "5  2024-01-01     5  U15637Z2  L541D99          4       False        True   \n",
              "6  2024-01-01     5  U15628Z2  L166D99         12       False        True   \n",
              "7  2024-01-01     5  U15634Z2  L668D99          9       False        True   \n",
              "8  2024-01-01     5  U15631Z2  L130D99         12       False        True   \n",
              "9  2024-01-01     5  U15632Z1   L75D99          9       False        True   \n",
              "\n",
              "   day_of_week  month  \n",
              "0            0      1  \n",
              "1            0      1  \n",
              "2            0      1  \n",
              "3            0      1  \n",
              "4            0      1  \n",
              "5            0      1  \n",
              "6            0      1  \n",
              "7            0      1  \n",
              "8            0      1  \n",
              "9            0      1  "
            ]
          },
          "metadata": {},
          "output_type": "display_data"
        }
      ],
      "source": [
        "# Initialize demand forecaster\n",
        "demand_forecaster = DemandForecaster(gtfs)\n",
        "\n",
        "# Simulate ridership data\n",
        "ridership_data = demand_forecaster.simulate_ridership_data(days=30)\n",
        "\n",
        "print(\"\\n📊 Ridership Data Simulation:\")\n",
        "print(\"=\" * 40)\n",
        "print(f\"Total records: {len(ridership_data):,}\")\n",
        "print(f\"Date range: {ridership_data['date'].min()} to {ridership_data['date'].max()}\")\n",
        "print(f\"Total ridership: {ridership_data['ridership'].sum():,}\")\n",
        "print(f\"Average daily ridership: {ridership_data.groupby('date')['ridership'].sum().mean():.0f}\")\n",
        "\n",
        "# Show sample\n",
        "display(ridership_data.head(10))"
      ]
    },
    {
      "cell_type": "code",
      "execution_count": 17,
      "metadata": {},
      "outputs": [
        {
          "name": "stdout",
          "output_type": "stream",
          "text": [
            "\n",
            "📈 Demand Pattern Analysis:\n",
            "========================================\n",
            "\n",
            "🕐 Peak Hours:\n",
            "  9:00 - 101 average riders\n",
            "  8:00 - 99 average riders\n",
            "  7:00 - 99 average riders\n",
            "\n",
            "📅 Weekend vs Weekday:\n",
            "  Weekday: 70 average riders\n",
            "  Weekend: 40 average riders\n",
            "\n",
            "🚏 Top 5 Busiest Stops:\n",
            "  1. U15431Z1: 36,530 total riders\n",
            "  2. U15552Z1: 36,075 total riders\n",
            "  3. U15317Z3: 36,037 total riders\n",
            "  4. U15775Z2: 35,965 total riders\n",
            "  5. U15627Z2: 35,940 total riders\n"
          ]
        }
      ],
      "source": [
        "# Analyze demand patterns\n",
        "demand_patterns = demand_forecaster.get_demand_patterns()\n",
        "\n",
        "print(\"\\n📈 Demand Pattern Analysis:\")\n",
        "print(\"=\" * 40)\n",
        "\n",
        "# Peak hours\n",
        "print(\"\\n🕐 Peak Hours:\")\n",
        "for hour, ridership in demand_patterns['peak_hours'].items():\n",
        "    print(f\"  {hour}:00 - {ridership:.0f} average riders\")\n",
        "\n",
        "# Weekend vs weekday\n",
        "print(\"\\n📅 Weekend vs Weekday:\")\n",
        "for is_weekend, ridership in demand_patterns['weekend_vs_weekday'].items():\n",
        "    day_type = \"Weekend\" if is_weekend else \"Weekday\"\n",
        "    print(f\"  {day_type}: {ridership:.0f} average riders\")\n",
        "\n",
        "# Top stops\n",
        "print(\"\\n🚏 Top 5 Busiest Stops:\")\n",
        "for i, (stop_id, total_ridership) in enumerate(list(demand_patterns['top_stops'].items())[:5], 1):\n",
        "    print(f\"  {i}. {stop_id}: {total_ridership:,.0f} total riders\")"
      ]
    },
    {
      "cell_type": "code",
      "execution_count": 18,
      "metadata": {},
      "outputs": [
        {
          "name": "stdout",
          "output_type": "stream",
          "text": [
            "Forecasting ridership for 7 days...\n",
            "✓ Generated 6650 ridership forecasts\n",
            "\n",
            "🔮 7-Day Ridership Forecast:\n",
            "========================================\n",
            "Daily Forecast Summary:\n",
            "✓ Generated 6650 ridership forecasts\n",
            "\n",
            "🔮 7-Day Ridership Forecast:\n",
            "========================================\n",
            "Daily Forecast Summary:\n"
          ]
        },
        {
          "data": {
            "application/vnd.microsoft.datawrangler.viewer.v0+json": {
              "columns": [
                {
                  "name": "date",
                  "rawType": "object",
                  "type": "unknown"
                },
                {
                  "name": "forecasted_ridership",
                  "rawType": "int64",
                  "type": "integer"
                },
                {
                  "name": "confidence_lower",
                  "rawType": "int64",
                  "type": "integer"
                },
                {
                  "name": "confidence_upper",
                  "rawType": "int64",
                  "type": "integer"
                }
              ],
              "ref": "ab153de7-a13b-44c3-ace8-bd8df6a4dacc",
              "rows": [
                [
                  "2024-01-31",
                  "67614",
                  "43044",
                  "92351"
                ],
                [
                  "2024-02-01",
                  "67207",
                  "43640",
                  "90945"
                ],
                [
                  "2024-02-02",
                  "66483",
                  "42506",
                  "90607"
                ],
                [
                  "2024-02-03",
                  "38003",
                  "24192",
                  "51927"
                ],
                [
                  "2024-02-04",
                  "37541",
                  "23894",
                  "51326"
                ],
                [
                  "2024-02-05",
                  "62184",
                  "36718",
                  "87880"
                ],
                [
                  "2024-02-06",
                  "66702",
                  "42188",
                  "91334"
                ]
              ],
              "shape": {
                "columns": 3,
                "rows": 7
              }
            },
            "text/html": [
              "<div>\n",
              "<style scoped>\n",
              "    .dataframe tbody tr th:only-of-type {\n",
              "        vertical-align: middle;\n",
              "    }\n",
              "\n",
              "    .dataframe tbody tr th {\n",
              "        vertical-align: top;\n",
              "    }\n",
              "\n",
              "    .dataframe thead th {\n",
              "        text-align: right;\n",
              "    }\n",
              "</style>\n",
              "<table border=\"1\" class=\"dataframe\">\n",
              "  <thead>\n",
              "    <tr style=\"text-align: right;\">\n",
              "      <th></th>\n",
              "      <th>forecasted_ridership</th>\n",
              "      <th>confidence_lower</th>\n",
              "      <th>confidence_upper</th>\n",
              "    </tr>\n",
              "    <tr>\n",
              "      <th>date</th>\n",
              "      <th></th>\n",
              "      <th></th>\n",
              "      <th></th>\n",
              "    </tr>\n",
              "  </thead>\n",
              "  <tbody>\n",
              "    <tr>\n",
              "      <th>2024-01-31</th>\n",
              "      <td>67614</td>\n",
              "      <td>43044</td>\n",
              "      <td>92351</td>\n",
              "    </tr>\n",
              "    <tr>\n",
              "      <th>2024-02-01</th>\n",
              "      <td>67207</td>\n",
              "      <td>43640</td>\n",
              "      <td>90945</td>\n",
              "    </tr>\n",
              "    <tr>\n",
              "      <th>2024-02-02</th>\n",
              "      <td>66483</td>\n",
              "      <td>42506</td>\n",
              "      <td>90607</td>\n",
              "    </tr>\n",
              "    <tr>\n",
              "      <th>2024-02-03</th>\n",
              "      <td>38003</td>\n",
              "      <td>24192</td>\n",
              "      <td>51927</td>\n",
              "    </tr>\n",
              "    <tr>\n",
              "      <th>2024-02-04</th>\n",
              "      <td>37541</td>\n",
              "      <td>23894</td>\n",
              "      <td>51326</td>\n",
              "    </tr>\n",
              "    <tr>\n",
              "      <th>2024-02-05</th>\n",
              "      <td>62184</td>\n",
              "      <td>36718</td>\n",
              "      <td>87880</td>\n",
              "    </tr>\n",
              "    <tr>\n",
              "      <th>2024-02-06</th>\n",
              "      <td>66702</td>\n",
              "      <td>42188</td>\n",
              "      <td>91334</td>\n",
              "    </tr>\n",
              "  </tbody>\n",
              "</table>\n",
              "</div>"
            ],
            "text/plain": [
              "            forecasted_ridership  confidence_lower  confidence_upper\n",
              "date                                                                \n",
              "2024-01-31                 67614             43044             92351\n",
              "2024-02-01                 67207             43640             90945\n",
              "2024-02-02                 66483             42506             90607\n",
              "2024-02-03                 38003             24192             51927\n",
              "2024-02-04                 37541             23894             51326\n",
              "2024-02-05                 62184             36718             87880\n",
              "2024-02-06                 66702             42188             91334"
            ]
          },
          "metadata": {},
          "output_type": "display_data"
        },
        {
          "name": "stdout",
          "output_type": "stream",
          "text": [
            "\n",
            "Total 7-day forecast: 405,734 riders\n",
            "Average daily forecast: 57,962 riders\n"
          ]
        }
      ],
      "source": [
        "# Generate ridership forecast\n",
        "forecast_data = demand_forecaster.forecast_ridership(forecast_days=7)\n",
        "\n",
        "print(\"\\n🔮 7-Day Ridership Forecast:\")\n",
        "print(\"=\" * 40)\n",
        "\n",
        "# Daily totals\n",
        "daily_forecast = forecast_data.groupby('date').agg({\n",
        "    'forecasted_ridership': 'sum',\n",
        "    'confidence_lower': 'sum',\n",
        "    'confidence_upper': 'sum'\n",
        "}).round(0)\n",
        "\n",
        "print(\"Daily Forecast Summary:\")\n",
        "display(daily_forecast)\n",
        "\n",
        "# Calculate forecast accuracy simulation\n",
        "total_forecast = daily_forecast['forecasted_ridership'].sum()\n",
        "avg_daily_forecast = daily_forecast['forecasted_ridership'].mean()\n",
        "print(f\"\\nTotal 7-day forecast: {total_forecast:,.0f} riders\")\n",
        "print(f\"Average daily forecast: {avg_daily_forecast:,.0f} riders\")"
      ]
    },
    {
      "cell_type": "markdown",
      "metadata": {},
      "source": [
        "## 📊 Interactive Visualizations"
      ]
    },
    {
      "cell_type": "code",
      "execution_count": 19,
      "metadata": {},
      "outputs": [
        {
          "name": "stdout",
          "output_type": "stream",
          "text": [
            "🎨 Creating Interactive Visualizations...\n",
            "\n"
          ]
        }
      ],
      "source": [
        "# Initialize visualizer\n",
        "visualizer = TransitVisualizer(gtfs, router)\n",
        "\n",
        "print(\"🎨 Creating Interactive Visualizations...\\n\")"
      ]
    },
    {
      "cell_type": "code",
      "execution_count": 20,
      "metadata": {},
      "outputs": [
        {
          "name": "stdout",
          "output_type": "stream",
          "text": [
            "Creating route analysis plots...\n",
            "✓ Route analysis plots created\n",
            "✓ Route analysis plots created\n"
          ]
        },
        {
          "data": {
            "application/vnd.plotly.v1+json": {
              "config": {
                "plotlyServerURL": "https://plot.ly"
              },
              "data": [
                {
                  "domain": {
                    "x": [
                      0,
                      0.45
                    ],
                    "y": [
                      0.625,
                      1
                    ]
                  },
                  "labels": [
                    "Bus",
                    "Rail",
                    "Tram",
                    null,
                    "Ferry"
                  ],
                  "name": "Route Types",
                  "type": "pie",
                  "values": {
                    "bdata": "HgEcAA8ADQABAA==",
                    "dtype": "i2"
                  }
                },
                {
                  "name": "Trips per Route",
                  "orientation": "h",
                  "type": "bar",
                  "x": {
                    "bdata": "dwXHBJkEiwOCA2kDUQM/Az0DLQM=",
                    "dtype": "i2"
                  },
                  "xaxis": "x",
                  "y": [
                    "L2D99",
                    "L12D99",
                    "L1D99",
                    "L3D99",
                    "L8D99",
                    "L9D99",
                    "L6D99",
                    "L130D99",
                    "L4D99",
                    "L37D99"
                  ],
                  "yaxis": "y"
                },
                {
                  "name": "Avg Stops per Route",
                  "orientation": "h",
                  "type": "bar",
                  "x": [
                    55.776119402985074,
                    53.379629629629626,
                    47,
                    44.6231884057971,
                    43.7797833935018,
                    43.15625,
                    43.15057915057915,
                    39.96666666666667,
                    38.49230769230769,
                    38.27777777777778
                  ],
                  "xaxis": "x2",
                  "y": [
                    "L93D99",
                    "L98D99",
                    "L90D99",
                    "L89D99",
                    "L44D99",
                    "L94D99",
                    "L84D99",
                    "L91D99",
                    "L92D99",
                    "L97D99"
                  ],
                  "yaxis": "y2"
                },
                {
                  "name": "Route Length (km)",
                  "nbinsx": 20,
                  "type": "histogram",
                  "x": {
                    "bdata": "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",
                    "dtype": "f8"
                  },
                  "xaxis": "x3",
                  "yaxis": "y3"
                }
              ],
              "layout": {
                "annotations": [
                  {
                    "font": {
                      "size": 16
                    },
                    "showarrow": false,
                    "text": "Route Types Distribution",
                    "x": 0.225,
                    "xanchor": "center",
                    "xref": "paper",
                    "y": 1,
                    "yanchor": "bottom",
                    "yref": "paper"
                  },
                  {
                    "font": {
                      "size": 16
                    },
                    "showarrow": false,
                    "text": "Trips per Route",
                    "x": 0.775,
                    "xanchor": "center",
                    "xref": "paper",
                    "y": 1,
                    "yanchor": "bottom",
                    "yref": "paper"
                  },
                  {
                    "font": {
                      "size": 16
                    },
                    "showarrow": false,
                    "text": "Stops per Route",
                    "x": 0.225,
                    "xanchor": "center",
                    "xref": "paper",
                    "y": 0.375,
                    "yanchor": "bottom",
                    "yref": "paper"
                  },
                  {
                    "font": {
                      "size": 16
                    },
                    "showarrow": false,
                    "text": "Route Length Distribution",
                    "x": 0.775,
                    "xanchor": "center",
                    "xref": "paper",
                    "y": 0.375,
                    "yanchor": "bottom",
                    "yref": "paper"
                  }
                ],
                "height": 800,
                "template": {
                  "data": {
                    "bar": [
                      {
                        "error_x": {
                          "color": "#2a3f5f"
                        },
                        "error_y": {
                          "color": "#2a3f5f"
                        },
                        "marker": {
                          "line": {
                            "color": "#E5ECF6",
                            "width": 0.5
                          },
                          "pattern": {
                            "fillmode": "overlay",
                            "size": 10,
                            "solidity": 0.2
                          }
                        },
                        "type": "bar"
                      }
                    ],
                    "barpolar": [
                      {
                        "marker": {
                          "line": {
                            "color": "#E5ECF6",
                            "width": 0.5
                          },
                          "pattern": {
                            "fillmode": "overlay",
                            "size": 10,
                            "solidity": 0.2
                          }
                        },
                        "type": "barpolar"
                      }
                    ],
                    "carpet": [
                      {
                        "aaxis": {
                          "endlinecolor": "#2a3f5f",
                          "gridcolor": "white",
                          "linecolor": "white",
                          "minorgridcolor": "white",
                          "startlinecolor": "#2a3f5f"
                        },
                        "baxis": {
                          "endlinecolor": "#2a3f5f",
                          "gridcolor": "white",
                          "linecolor": "white",
                          "minorgridcolor": "white",
                          "startlinecolor": "#2a3f5f"
                        },
                        "type": "carpet"
                      }
                    ],
                    "choropleth": [
                      {
                        "colorbar": {
                          "outlinewidth": 0,
                          "ticks": ""
                        },
                        "type": "choropleth"
                      }
                    ],
                    "contour": [
                      {
                        "colorbar": {
                          "outlinewidth": 0,
                          "ticks": ""
                        },
                        "colorscale": [
                          [
                            0,
                            "#0d0887"
                          ],
                          [
                            0.1111111111111111,
                            "#46039f"
                          ],
                          [
                            0.2222222222222222,
                            "#7201a8"
                          ],
                          [
                            0.3333333333333333,
                            "#9c179e"
                          ],
                          [
                            0.4444444444444444,
                            "#bd3786"
                          ],
                          [
                            0.5555555555555556,
                            "#d8576b"
                          ],
                          [
                            0.6666666666666666,
                            "#ed7953"
                          ],
                          [
                            0.7777777777777778,
                            "#fb9f3a"
                          ],
                          [
                            0.8888888888888888,
                            "#fdca26"
                          ],
                          [
                            1,
                            "#f0f921"
                          ]
                        ],
                        "type": "contour"
                      }
                    ],
                    "contourcarpet": [
                      {
                        "colorbar": {
                          "outlinewidth": 0,
                          "ticks": ""
                        },
                        "type": "contourcarpet"
                      }
                    ],
                    "heatmap": [
                      {
                        "colorbar": {
                          "outlinewidth": 0,
                          "ticks": ""
                        },
                        "colorscale": [
                          [
                            0,
                            "#0d0887"
                          ],
                          [
                            0.1111111111111111,
                            "#46039f"
                          ],
                          [
                            0.2222222222222222,
                            "#7201a8"
                          ],
                          [
                            0.3333333333333333,
                            "#9c179e"
                          ],
                          [
                            0.4444444444444444,
                            "#bd3786"
                          ],
                          [
                            0.5555555555555556,
                            "#d8576b"
                          ],
                          [
                            0.6666666666666666,
                            "#ed7953"
                          ],
                          [
                            0.7777777777777778,
                            "#fb9f3a"
                          ],
                          [
                            0.8888888888888888,
                            "#fdca26"
                          ],
                          [
                            1,
                            "#f0f921"
                          ]
                        ],
                        "type": "heatmap"
                      }
                    ],
                    "histogram": [
                      {
                        "marker": {
                          "pattern": {
                            "fillmode": "overlay",
                            "size": 10,
                            "solidity": 0.2
                          }
                        },
                        "type": "histogram"
                      }
                    ],
                    "histogram2d": [
                      {
                        "colorbar": {
                          "outlinewidth": 0,
                          "ticks": ""
                        },
                        "colorscale": [
                          [
                            0,
                            "#0d0887"
                          ],
                          [
                            0.1111111111111111,
                            "#46039f"
                          ],
                          [
                            0.2222222222222222,
                            "#7201a8"
                          ],
                          [
                            0.3333333333333333,
                            "#9c179e"
                          ],
                          [
                            0.4444444444444444,
                            "#bd3786"
                          ],
                          [
                            0.5555555555555556,
                            "#d8576b"
                          ],
                          [
                            0.6666666666666666,
                            "#ed7953"
                          ],
                          [
                            0.7777777777777778,
                            "#fb9f3a"
                          ],
                          [
                            0.8888888888888888,
                            "#fdca26"
                          ],
                          [
                            1,
                            "#f0f921"
                          ]
                        ],
                        "type": "histogram2d"
                      }
                    ],
                    "histogram2dcontour": [
                      {
                        "colorbar": {
                          "outlinewidth": 0,
                          "ticks": ""
                        },
                        "colorscale": [
                          [
                            0,
                            "#0d0887"
                          ],
                          [
                            0.1111111111111111,
                            "#46039f"
                          ],
                          [
                            0.2222222222222222,
                            "#7201a8"
                          ],
                          [
                            0.3333333333333333,
                            "#9c179e"
                          ],
                          [
                            0.4444444444444444,
                            "#bd3786"
                          ],
                          [
                            0.5555555555555556,
                            "#d8576b"
                          ],
                          [
                            0.6666666666666666,
                            "#ed7953"
                          ],
                          [
                            0.7777777777777778,
                            "#fb9f3a"
                          ],
                          [
                            0.8888888888888888,
                            "#fdca26"
                          ],
                          [
                            1,
                            "#f0f921"
                          ]
                        ],
                        "type": "histogram2dcontour"
                      }
                    ],
                    "mesh3d": [
                      {
                        "colorbar": {
                          "outlinewidth": 0,
                          "ticks": ""
                        },
                        "type": "mesh3d"
                      }
                    ],
                    "parcoords": [
                      {
                        "line": {
                          "colorbar": {
                            "outlinewidth": 0,
                            "ticks": ""
                          }
                        },
                        "type": "parcoords"
                      }
                    ],
                    "pie": [
                      {
                        "automargin": true,
                        "type": "pie"
                      }
                    ],
                    "scatter": [
                      {
                        "fillpattern": {
                          "fillmode": "overlay",
                          "size": 10,
                          "solidity": 0.2
                        },
                        "type": "scatter"
                      }
                    ],
                    "scatter3d": [
                      {
                        "line": {
                          "colorbar": {
                            "outlinewidth": 0,
                            "ticks": ""
                          }
                        },
                        "marker": {
                          "colorbar": {
                            "outlinewidth": 0,
                            "ticks": ""
                          }
                        },
                        "type": "scatter3d"
                      }
                    ],
                    "scattercarpet": [
                      {
                        "marker": {
                          "colorbar": {
                            "outlinewidth": 0,
                            "ticks": ""
                          }
                        },
                        "type": "scattercarpet"
                      }
                    ],
                    "scattergeo": [
                      {
                        "marker": {
                          "colorbar": {
                            "outlinewidth": 0,
                            "ticks": ""
                          }
                        },
                        "type": "scattergeo"
                      }
                    ],
                    "scattergl": [
                      {
                        "marker": {
                          "colorbar": {
                            "outlinewidth": 0,
                            "ticks": ""
                          }
                        },
                        "type": "scattergl"
                      }
                    ],
                    "scattermap": [
                      {
                        "marker": {
                          "colorbar": {
                            "outlinewidth": 0,
                            "ticks": ""
                          }
                        },
                        "type": "scattermap"
                      }
                    ],
                    "scattermapbox": [
                      {
                        "marker": {
                          "colorbar": {
                            "outlinewidth": 0,
                            "ticks": ""
                          }
                        },
                        "type": "scattermapbox"
                      }
                    ],
                    "scatterpolar": [
                      {
                        "marker": {
                          "colorbar": {
                            "outlinewidth": 0,
                            "ticks": ""
                          }
                        },
                        "type": "scatterpolar"
                      }
                    ],
                    "scatterpolargl": [
                      {
                        "marker": {
                          "colorbar": {
                            "outlinewidth": 0,
                            "ticks": ""
                          }
                        },
                        "type": "scatterpolargl"
                      }
                    ],
                    "scatterternary": [
                      {
                        "marker": {
                          "colorbar": {
                            "outlinewidth": 0,
                            "ticks": ""
                          }
                        },
                        "type": "scatterternary"
                      }
                    ],
                    "surface": [
                      {
                        "colorbar": {
                          "outlinewidth": 0,
                          "ticks": ""
                        },
                        "colorscale": [
                          [
                            0,
                            "#0d0887"
                          ],
                          [
                            0.1111111111111111,
                            "#46039f"
                          ],
                          [
                            0.2222222222222222,
                            "#7201a8"
                          ],
                          [
                            0.3333333333333333,
                            "#9c179e"
                          ],
                          [
                            0.4444444444444444,
                            "#bd3786"
                          ],
                          [
                            0.5555555555555556,
                            "#d8576b"
                          ],
                          [
                            0.6666666666666666,
                            "#ed7953"
                          ],
                          [
                            0.7777777777777778,
                            "#fb9f3a"
                          ],
                          [
                            0.8888888888888888,
                            "#fdca26"
                          ],
                          [
                            1,
                            "#f0f921"
                          ]
                        ],
                        "type": "surface"
                      }
                    ],
                    "table": [
                      {
                        "cells": {
                          "fill": {
                            "color": "#EBF0F8"
                          },
                          "line": {
                            "color": "white"
                          }
                        },
                        "header": {
                          "fill": {
                            "color": "#C8D4E3"
                          },
                          "line": {
                            "color": "white"
                          }
                        },
                        "type": "table"
                      }
                    ]
                  },
                  "layout": {
                    "annotationdefaults": {
                      "arrowcolor": "#2a3f5f",
                      "arrowhead": 0,
                      "arrowwidth": 1
                    },
                    "autotypenumbers": "strict",
                    "coloraxis": {
                      "colorbar": {
                        "outlinewidth": 0,
                        "ticks": ""
                      }
                    },
                    "colorscale": {
                      "diverging": [
                        [
                          0,
                          "#8e0152"
                        ],
                        [
                          0.1,
                          "#c51b7d"
                        ],
                        [
                          0.2,
                          "#de77ae"
                        ],
                        [
                          0.3,
                          "#f1b6da"
                        ],
                        [
                          0.4,
                          "#fde0ef"
                        ],
                        [
                          0.5,
                          "#f7f7f7"
                        ],
                        [
                          0.6,
                          "#e6f5d0"
                        ],
                        [
                          0.7,
                          "#b8e186"
                        ],
                        [
                          0.8,
                          "#7fbc41"
                        ],
                        [
                          0.9,
                          "#4d9221"
                        ],
                        [
                          1,
                          "#276419"
                        ]
                      ],
                      "sequential": [
                        [
                          0,
                          "#0d0887"
                        ],
                        [
                          0.1111111111111111,
                          "#46039f"
                        ],
                        [
                          0.2222222222222222,
                          "#7201a8"
                        ],
                        [
                          0.3333333333333333,
                          "#9c179e"
                        ],
                        [
                          0.4444444444444444,
                          "#bd3786"
                        ],
                        [
                          0.5555555555555556,
                          "#d8576b"
                        ],
                        [
                          0.6666666666666666,
                          "#ed7953"
                        ],
                        [
                          0.7777777777777778,
                          "#fb9f3a"
                        ],
                        [
                          0.8888888888888888,
                          "#fdca26"
                        ],
                        [
                          1,
                          "#f0f921"
                        ]
                      ],
                      "sequentialminus": [
                        [
                          0,
                          "#0d0887"
                        ],
                        [
                          0.1111111111111111,
                          "#46039f"
                        ],
                        [
                          0.2222222222222222,
                          "#7201a8"
                        ],
                        [
                          0.3333333333333333,
                          "#9c179e"
                        ],
                        [
                          0.4444444444444444,
                          "#bd3786"
                        ],
                        [
                          0.5555555555555556,
                          "#d8576b"
                        ],
                        [
                          0.6666666666666666,
                          "#ed7953"
                        ],
                        [
                          0.7777777777777778,
                          "#fb9f3a"
                        ],
                        [
                          0.8888888888888888,
                          "#fdca26"
                        ],
                        [
                          1,
                          "#f0f921"
                        ]
                      ]
                    },
                    "colorway": [
                      "#636efa",
                      "#EF553B",
                      "#00cc96",
                      "#ab63fa",
                      "#FFA15A",
                      "#19d3f3",
                      "#FF6692",
                      "#B6E880",
                      "#FF97FF",
                      "#FECB52"
                    ],
                    "font": {
                      "color": "#2a3f5f"
                    },
                    "geo": {
                      "bgcolor": "white",
                      "lakecolor": "white",
                      "landcolor": "#E5ECF6",
                      "showlakes": true,
                      "showland": true,
                      "subunitcolor": "white"
                    },
                    "hoverlabel": {
                      "align": "left"
                    },
                    "hovermode": "closest",
                    "mapbox": {
                      "style": "light"
                    },
                    "paper_bgcolor": "white",
                    "plot_bgcolor": "#E5ECF6",
                    "polar": {
                      "angularaxis": {
                        "gridcolor": "white",
                        "linecolor": "white",
                        "ticks": ""
                      },
                      "bgcolor": "#E5ECF6",
                      "radialaxis": {
                        "gridcolor": "white",
                        "linecolor": "white",
                        "ticks": ""
                      }
                    },
                    "scene": {
                      "xaxis": {
                        "backgroundcolor": "#E5ECF6",
                        "gridcolor": "white",
                        "gridwidth": 2,
                        "linecolor": "white",
                        "showbackground": true,
                        "ticks": "",
                        "zerolinecolor": "white"
                      },
                      "yaxis": {
                        "backgroundcolor": "#E5ECF6",
                        "gridcolor": "white",
                        "gridwidth": 2,
                        "linecolor": "white",
                        "showbackground": true,
                        "ticks": "",
                        "zerolinecolor": "white"
                      },
                      "zaxis": {
                        "backgroundcolor": "#E5ECF6",
                        "gridcolor": "white",
                        "gridwidth": 2,
                        "linecolor": "white",
                        "showbackground": true,
                        "ticks": "",
                        "zerolinecolor": "white"
                      }
                    },
                    "shapedefaults": {
                      "line": {
                        "color": "#2a3f5f"
                      }
                    },
                    "ternary": {
                      "aaxis": {
                        "gridcolor": "white",
                        "linecolor": "white",
                        "ticks": ""
                      },
                      "baxis": {
                        "gridcolor": "white",
                        "linecolor": "white",
                        "ticks": ""
                      },
                      "bgcolor": "#E5ECF6",
                      "caxis": {
                        "gridcolor": "white",
                        "linecolor": "white",
                        "ticks": ""
                      }
                    },
                    "title": {
                      "x": 0.05
                    },
                    "xaxis": {
                      "automargin": true,
                      "gridcolor": "white",
                      "linecolor": "white",
                      "ticks": "",
                      "title": {
                        "standoff": 15
                      },
                      "zerolinecolor": "white",
                      "zerolinewidth": 2
                    },
                    "yaxis": {
                      "automargin": true,
                      "gridcolor": "white",
                      "linecolor": "white",
                      "ticks": "",
                      "title": {
                        "standoff": 15
                      },
                      "zerolinecolor": "white",
                      "zerolinewidth": 2
                    }
                  }
                },
                "title": {
                  "text": "Route Analysis Dashboard"
                },
                "xaxis": {
                  "anchor": "y",
                  "domain": [
                    0.55,
                    1
                  ]
                },
                "xaxis2": {
                  "anchor": "y2",
                  "domain": [
                    0,
                    0.45
                  ]
                },
                "xaxis3": {
                  "anchor": "y3",
                  "domain": [
                    0.55,
                    1
                  ]
                },
                "yaxis": {
                  "anchor": "x",
                  "domain": [
                    0.625,
                    1
                  ]
                },
                "yaxis2": {
                  "anchor": "x2",
                  "domain": [
                    0,
                    0.375
                  ]
                },
                "yaxis3": {
                  "anchor": "x3",
                  "domain": [
                    0,
                    0.375
                  ]
                }
              }
            }
          },
          "metadata": {},
          "output_type": "display_data"
        },
        {
          "name": "stdout",
          "output_type": "stream",
          "text": [
            "✅ Route analysis visualization complete!\n"
          ]
        }
      ],
      "source": [
        "# Create route analysis plots\n",
        "route_fig = visualizer.plot_route_analysis()\n",
        "route_fig.show()\n",
        "\n",
        "print(\"✅ Route analysis visualization complete!\")"
      ]
    },
    {
      "cell_type": "code",
      "execution_count": 21,
      "metadata": {},
      "outputs": [
        {
          "name": "stdout",
          "output_type": "stream",
          "text": [
            "Creating delay prediction visualizations...\n",
            "Preparing training data for delay prediction...\n",
            "Creating engineered features...\n",
            "✓ Created features for 961814 records\n",
            "✓ Prepared training data with 853517 records and 9 features\n",
            "✓ Created features for 961814 records\n",
            "✓ Prepared training data with 853517 records and 9 features\n",
            "✓ Delay prediction visualizations created\n",
            "✓ Delay prediction visualizations created\n"
          ]
        },
        {
          "data": {
            "application/vnd.plotly.v1+json": {
              "config": {
                "plotlyServerURL": "https://plot.ly"
              },
              "data": [
                {
                  "name": "Delay Distribution",
                  "nbinsx": 30,
                  "type": "histogram",
                  "x": {
                    "bdata": "n6BYuncevj/+fwfldK0NQEmcNBUfHfA/OjD5FHN07b8Ic/ieDA3Qv0MCfOEvSOO/b5qPjcEK/j+LWL8f5ToEwD+fGU9EcVlA7YceSqPA/T8n0AROR2fUP5TpTHk/usg/j2AhBSv07j8uJSBhs+gMQAL4O49KBrS/mf1cYMOO2j/0e/Cz3Gm2v7ce+3S+zwHAFdKZvD1nzr9tZSvONw8EQENq+MkJYsg/2uiFX+YZFUAflU6n+VwgQGfejfTCQxdAWCKpAfIp0r/lVNGw3bOvP81QKKPRqThA6hQq8M+YFEBs3MpmcOUjQIw3doH6JPc/+yCCcQwRFECzopge6lQmQDPEIv+2phtA0hWSJvMz+D/nE4qfEYgaQLHVDzOrUOI/ZAztOUHXG0CWcKV+YugQQP4sbd9j9x1AabTcTzyh57/3ky/xFcM8QGAhAAcnFRFAyi3mNJ8JFkAEagJL6jgwQLxrL6h9Jx5AyfeXd1X1GEDAYbqmfcYwQDT9CmKXYgJAtDykZ+7m8b81TwcKYfL1P/fT2fFswiVAPVDQtPTl9j+dCflNCjv+PzKDlb3X1xxAOttbYjyY2T8vEWm8KJzTP3R4wUUbNg5AqeDZd7UcAUDBmLlnN5oRQPMXoaF5Bi5AzZ0Pcb5h+D/Q06UbxRkRQNDhab60scw/kXtmD3o7CEBKgT41XHTHv2jcJlKcPO4/PNXTakSbJkAWQus5Gp9BQFfzSny6A76/DqkyHbSQAUC12jtyQZg1QK+I4Eyf0rC/zzEmIujfMUBbxYSyoa73P3yw3NUruO8/8Fkk6JAqA0AdwEx8gtwJQFSShAUvNvo/aGTxDBIn0L/tkHeHqFweQPEblVZciyZANGWXnpWRDEBzo3ADg7ElQOFY7XccYfQ/PE1ngwA2EUDVgSJ6jMRCQGDWSD5mPQVAWjgDrn00wj9uFDSOuFavP44SL0XsAylAHkxlzcpj+b/wYm3bO8U6QL0McVOmmOU/2jLaAZSBjr9aYkUkJ6LRv9PjLQwUfhJAnbhXGiBy4D81pQkcKTwQQIv2etQmhdo/hsEAHwDH/j8=",
                    "dtype": "f8"
                  },
                  "xaxis": "x",
                  "yaxis": "y"
                },
                {
                  "name": "Avg Delay by Hour",
                  "type": "bar",
                  "x": {
                    "bdata": "AAUGBwgJCgsMDQ4PEBESExQVFhc=",
                    "dtype": "i1"
                  },
                  "xaxis": "x2",
                  "y": {
                    "bdata": "QSsE86ioDEC3IQIUkVEAQF8o+KzJWAlA4Vjtdxxh9D+Jl0JPMqEtQKc8ej7mEylAKKfrLsYVBUCiMRu8L8MBQA4+99khZhRA3mKbho/P4T/9q0Nl3vQSQOjsXRJfFwZAV0RniWF7BEB9JZWSI20+QLOimB7qVCZAakFRnFAfE0ASz0sfDfklQCr3r7ZKnQlAH9OibxKj+j+PYCEFK/TuPw==",
                    "dtype": "f8"
                  },
                  "yaxis": "y2"
                },
                {
                  "name": "Bus",
                  "type": "box",
                  "xaxis": "x3",
                  "y": {
                    "bdata": "n6BYuncevj/+fwfldK0NQDow+RRzdO2/CHP4ngwN0L9DAnzhL0jjv2+aj43BCv4/i1i/H+U6BMA/nxlPRHFZQO2HHkqjwP0/J9AETkdn1D+U6Ux5P7rIP49gIQUr9O4/LiUgYbPoDECZ/Vxgw47aP/R78LPcaba/tx77dL7PAcDa6IVf5hkVQB+VTqf5XCBAWCKpAfIp0r/lVNGw3bOvP+oUKvDPmBRAjDd2gfok9z/7IIJxDBEUQNIVkibzM/g/5xOKnxGIGkCx1Q8zq1DiP2m03E88oee/YCEABycVEUDKLeY0nwkWQLxrL6h9Jx5AwGG6pn3GMEC0PKRn7ubxv/fT2fFswiVAnQn5TQo7/j8621tiPJjZPy8RabwonNM/dHjBRRs2DkCp4Nl3tRwBQMGYuWc3mhFA8xehoXkGLkDNnQ9xvmH4P9DTpRvFGRFAkXtmD3o7CEBKgT41XHTHv2jcJlKcPO4/V/NKfLoDvr8OqTIdtJABQLXaO3JBmDVAzzEmIujfMUBbxYSyoa73P3yw3NUruO8/HcBMfILcCUBUkoQFLzb6P+2Qd4eoXB5ANGWXnpWRDEBzo3ADg7ElQOFY7XccYfQ/PE1ngwA2EUBg1kg+Zj0FQFo4A659NMI/bhQ0jrhWrz+OEi9F7AMpQPBibds7xTpAvQxxU6aY5T/aMtoBlIGOv9PjLQwUfhJAnbhXGiBy4D81pQkcKTwQQIbBAB8Ax/4/",
                    "dtype": "f8"
                  },
                  "yaxis": "y3"
                },
                {
                  "name": "Tram",
                  "type": "box",
                  "xaxis": "x3",
                  "y": {
                    "bdata": "SZw0FR8d8D8C+DuPSga0vxXSmbw9Z86/bWUrzjcPBEBDavjJCWLIP2fejfTCQxdAzVAoo9GpOEBs3MpmcOUjQLOimB7qVCZAM8Qi/7amG0BkDO05QdcbQJZwpX5i6BBA/ixt32P3HUD3ky/xFcM8QARqAkvqODBAyfeXd1X1GEA0/Qpil2ICQDVPBwph8vU/PVDQtPTl9j8yg5W919ccQBZC6zkan0FAr4jgTJ/SsL/wWSTokCoDQGhk8QwSJ9C/8RuVVlyLJkDVgSJ6jMRCQB5MZc3KY/m/WmJFJCei0b+L9nrUJoXaPw==",
                    "dtype": "f8"
                  },
                  "yaxis": "y3"
                },
                {
                  "name": "Rail",
                  "type": "box",
                  "xaxis": "x3",
                  "y": {
                    "bdata": "0OFpvrSxzD881dNqRJsmQA==",
                    "dtype": "f8"
                  },
                  "yaxis": "y3"
                },
                {
                  "mode": "markers",
                  "name": "Predicted vs Actual",
                  "opacity": 0.6,
                  "type": "scatter",
                  "x": {
                    "bdata": "n6BYuncevj/+fwfldK0NQEmcNBUfHfA/OjD5FHN07b8Ic/ieDA3Qv0MCfOEvSOO/b5qPjcEK/j+LWL8f5ToEwD+fGU9EcVlA7YceSqPA/T8n0AROR2fUP5TpTHk/usg/j2AhBSv07j8uJSBhs+gMQAL4O49KBrS/mf1cYMOO2j/0e/Cz3Gm2v7ce+3S+zwHAFdKZvD1nzr9tZSvONw8EQENq+MkJYsg/2uiFX+YZFUAflU6n+VwgQGfejfTCQxdAWCKpAfIp0r/lVNGw3bOvP81QKKPRqThA6hQq8M+YFEBs3MpmcOUjQIw3doH6JPc/+yCCcQwRFECzopge6lQmQDPEIv+2phtA0hWSJvMz+D/nE4qfEYgaQLHVDzOrUOI/ZAztOUHXG0CWcKV+YugQQP4sbd9j9x1AabTcTzyh57/3ky/xFcM8QGAhAAcnFRFAyi3mNJ8JFkAEagJL6jgwQLxrL6h9Jx5AyfeXd1X1GEDAYbqmfcYwQDT9CmKXYgJAtDykZ+7m8b81TwcKYfL1P/fT2fFswiVAPVDQtPTl9j+dCflNCjv+PzKDlb3X1xxAOttbYjyY2T8vEWm8KJzTP3R4wUUbNg5AqeDZd7UcAUDBmLlnN5oRQPMXoaF5Bi5AzZ0Pcb5h+D/Q06UbxRkRQNDhab60scw/kXtmD3o7CEBKgT41XHTHv2jcJlKcPO4/PNXTakSbJkAWQus5Gp9BQFfzSny6A76/DqkyHbSQAUC12jtyQZg1QK+I4Eyf0rC/zzEmIujfMUBbxYSyoa73P3yw3NUruO8/8Fkk6JAqA0AdwEx8gtwJQFSShAUvNvo/aGTxDBIn0L/tkHeHqFweQPEblVZciyZANGWXnpWRDEBzo3ADg7ElQOFY7XccYfQ/PE1ngwA2EUDVgSJ6jMRCQGDWSD5mPQVAWjgDrn00wj9uFDSOuFavP44SL0XsAylAHkxlzcpj+b/wYm3bO8U6QL0McVOmmOU/2jLaAZSBjr9aYkUkJ6LRv9PjLQwUfhJAnbhXGiBy4D81pQkcKTwQQIv2etQmhdo/hsEAHwDH/j8=",
                    "dtype": "f8"
                  },
                  "xaxis": "x4",
                  "y": {
                    "bdata": "Q024m+Qqv7+ZAljD1wULQMDGpI053YQ/KHrzX+8xAsBeeE0fWhnrP0ByzYdCQ+G/7vmvcICVBkDSjqMNJHMEwJ6o21SSZ1lAVzQR5NSn8z/B1kj9CSfiP9hC1IZDf+M/qGc+49awsr8XDK3heTERQG/8i05NMOu/WLZb/7zm0T/WOaqd9q/Sv3bex2l2XPy/vgXefZLs9T9IHnOCJ3/9P3bYXn454ty/f54XNueeDECENnx37IEiQNc5vhwBOxJAxlUn+L0M/r8M2c8Tf53xv7F0RRsTsThAWiK7m3anDkDCPs/4unghQGnd0T6zKPc/3hC/8jTTFUBA8bq3JA8kQEkWwtjj+x1A/L3vzJGn+j/WleFp74cSQLgrvd7kduE/PiBaDS7FI0B92L/AfyMQQE9AZAEEFiBASIX3Fttt8r+9Snp+GsY7QHYfEmtyUhhAV4dD2/h6FEDDke0D7sIrQERMeZBB1h9ABV5ii4+FF0D/8s4T+n8wQEBaG96dZAlAU3z01P8q8r/z6p1iovwAQMEPOKGGpCRAME1gh5GXAEBKg+UeCe3qPz0SKWjyDh5AB1bb4+srAUCEFNbUmED8P9vGdyg3IBJAPiCzZ+8RCEC/1tWSJbQHQFIKdKTt8ilAwIsD5aWYzz8n5wQFND4SQGmLa+c/N/M/yGJ62KsSCkAZPH9tbvb+v+fAc2N/9tw/VySWWjvhJUC5BrUYHcVBQJFKWc7KSO8/uvY8L/waCkDB/2x9s4A1QLNFNQYOOeM/A4m/fq3cMUDaqEyJMHv8P95Q/hIyUfc/7UI+dHwk9j+2/5uaHE8UQJ+slt8m1AFAdxgCh7nz8r+3yLHSG/sgQOxK1XK5VipAqgml6Ma+DEC87T4ad6knQERHPHzuBAJAiND0NZxqDUDeQfjrAopCQBIaZn7yeAxA1dExx3rx8D8YtYCwA0jmPwD7CeC8kSZAmmhDXjJlAMBpgTX8MLw4QLhMJ0oKZew/NxcW8enQ4z8OdL7qHJ7hv08mUF0PeQdAaM3Uo9VFoz/1IPK8zrMRQC3XEGy8TfK/aMTJFDzTCUA=",
                    "dtype": "f8"
                  },
                  "yaxis": "y4"
                },
                {
                  "line": {
                    "color": "red",
                    "dash": "dash"
                  },
                  "mode": "lines",
                  "name": "Perfect Prediction",
                  "type": "scatter",
                  "x": [
                    -2.5287573318738104,
                    101.76979424955515
                  ],
                  "xaxis": "x4",
                  "y": [
                    -2.5287573318738104,
                    101.76979424955515
                  ],
                  "yaxis": "y4"
                }
              ],
              "layout": {
                "annotations": [
                  {
                    "font": {
                      "size": 16
                    },
                    "showarrow": false,
                    "text": "Delay Distribution",
                    "x": 0.225,
                    "xanchor": "center",
                    "xref": "paper",
                    "y": 1,
                    "yanchor": "bottom",
                    "yref": "paper"
                  },
                  {
                    "font": {
                      "size": 16
                    },
                    "showarrow": false,
                    "text": "Delays by Hour",
                    "x": 0.775,
                    "xanchor": "center",
                    "xref": "paper",
                    "y": 1,
                    "yanchor": "bottom",
                    "yref": "paper"
                  },
                  {
                    "font": {
                      "size": 16
                    },
                    "showarrow": false,
                    "text": "Delays by Route Type",
                    "x": 0.225,
                    "xanchor": "center",
                    "xref": "paper",
                    "y": 0.375,
                    "yanchor": "bottom",
                    "yref": "paper"
                  },
                  {
                    "font": {
                      "size": 16
                    },
                    "showarrow": false,
                    "text": "Delay Prediction vs Actual",
                    "x": 0.775,
                    "xanchor": "center",
                    "xref": "paper",
                    "y": 0.375,
                    "yanchor": "bottom",
                    "yref": "paper"
                  }
                ],
                "height": 800,
                "template": {
                  "data": {
                    "bar": [
                      {
                        "error_x": {
                          "color": "#2a3f5f"
                        },
                        "error_y": {
                          "color": "#2a3f5f"
                        },
                        "marker": {
                          "line": {
                            "color": "#E5ECF6",
                            "width": 0.5
                          },
                          "pattern": {
                            "fillmode": "overlay",
                            "size": 10,
                            "solidity": 0.2
                          }
                        },
                        "type": "bar"
                      }
                    ],
                    "barpolar": [
                      {
                        "marker": {
                          "line": {
                            "color": "#E5ECF6",
                            "width": 0.5
                          },
                          "pattern": {
                            "fillmode": "overlay",
                            "size": 10,
                            "solidity": 0.2
                          }
                        },
                        "type": "barpolar"
                      }
                    ],
                    "carpet": [
                      {
                        "aaxis": {
                          "endlinecolor": "#2a3f5f",
                          "gridcolor": "white",
                          "linecolor": "white",
                          "minorgridcolor": "white",
                          "startlinecolor": "#2a3f5f"
                        },
                        "baxis": {
                          "endlinecolor": "#2a3f5f",
                          "gridcolor": "white",
                          "linecolor": "white",
                          "minorgridcolor": "white",
                          "startlinecolor": "#2a3f5f"
                        },
                        "type": "carpet"
                      }
                    ],
                    "choropleth": [
                      {
                        "colorbar": {
                          "outlinewidth": 0,
                          "ticks": ""
                        },
                        "type": "choropleth"
                      }
                    ],
                    "contour": [
                      {
                        "colorbar": {
                          "outlinewidth": 0,
                          "ticks": ""
                        },
                        "colorscale": [
                          [
                            0,
                            "#0d0887"
                          ],
                          [
                            0.1111111111111111,
                            "#46039f"
                          ],
                          [
                            0.2222222222222222,
                            "#7201a8"
                          ],
                          [
                            0.3333333333333333,
                            "#9c179e"
                          ],
                          [
                            0.4444444444444444,
                            "#bd3786"
                          ],
                          [
                            0.5555555555555556,
                            "#d8576b"
                          ],
                          [
                            0.6666666666666666,
                            "#ed7953"
                          ],
                          [
                            0.7777777777777778,
                            "#fb9f3a"
                          ],
                          [
                            0.8888888888888888,
                            "#fdca26"
                          ],
                          [
                            1,
                            "#f0f921"
                          ]
                        ],
                        "type": "contour"
                      }
                    ],
                    "contourcarpet": [
                      {
                        "colorbar": {
                          "outlinewidth": 0,
                          "ticks": ""
                        },
                        "type": "contourcarpet"
                      }
                    ],
                    "heatmap": [
                      {
                        "colorbar": {
                          "outlinewidth": 0,
                          "ticks": ""
                        },
                        "colorscale": [
                          [
                            0,
                            "#0d0887"
                          ],
                          [
                            0.1111111111111111,
                            "#46039f"
                          ],
                          [
                            0.2222222222222222,
                            "#7201a8"
                          ],
                          [
                            0.3333333333333333,
                            "#9c179e"
                          ],
                          [
                            0.4444444444444444,
                            "#bd3786"
                          ],
                          [
                            0.5555555555555556,
                            "#d8576b"
                          ],
                          [
                            0.6666666666666666,
                            "#ed7953"
                          ],
                          [
                            0.7777777777777778,
                            "#fb9f3a"
                          ],
                          [
                            0.8888888888888888,
                            "#fdca26"
                          ],
                          [
                            1,
                            "#f0f921"
                          ]
                        ],
                        "type": "heatmap"
                      }
                    ],
                    "histogram": [
                      {
                        "marker": {
                          "pattern": {
                            "fillmode": "overlay",
                            "size": 10,
                            "solidity": 0.2
                          }
                        },
                        "type": "histogram"
                      }
                    ],
                    "histogram2d": [
                      {
                        "colorbar": {
                          "outlinewidth": 0,
                          "ticks": ""
                        },
                        "colorscale": [
                          [
                            0,
                            "#0d0887"
                          ],
                          [
                            0.1111111111111111,
                            "#46039f"
                          ],
                          [
                            0.2222222222222222,
                            "#7201a8"
                          ],
                          [
                            0.3333333333333333,
                            "#9c179e"
                          ],
                          [
                            0.4444444444444444,
                            "#bd3786"
                          ],
                          [
                            0.5555555555555556,
                            "#d8576b"
                          ],
                          [
                            0.6666666666666666,
                            "#ed7953"
                          ],
                          [
                            0.7777777777777778,
                            "#fb9f3a"
                          ],
                          [
                            0.8888888888888888,
                            "#fdca26"
                          ],
                          [
                            1,
                            "#f0f921"
                          ]
                        ],
                        "type": "histogram2d"
                      }
                    ],
                    "histogram2dcontour": [
                      {
                        "colorbar": {
                          "outlinewidth": 0,
                          "ticks": ""
                        },
                        "colorscale": [
                          [
                            0,
                            "#0d0887"
                          ],
                          [
                            0.1111111111111111,
                            "#46039f"
                          ],
                          [
                            0.2222222222222222,
                            "#7201a8"
                          ],
                          [
                            0.3333333333333333,
                            "#9c179e"
                          ],
                          [
                            0.4444444444444444,
                            "#bd3786"
                          ],
                          [
                            0.5555555555555556,
                            "#d8576b"
                          ],
                          [
                            0.6666666666666666,
                            "#ed7953"
                          ],
                          [
                            0.7777777777777778,
                            "#fb9f3a"
                          ],
                          [
                            0.8888888888888888,
                            "#fdca26"
                          ],
                          [
                            1,
                            "#f0f921"
                          ]
                        ],
                        "type": "histogram2dcontour"
                      }
                    ],
                    "mesh3d": [
                      {
                        "colorbar": {
                          "outlinewidth": 0,
                          "ticks": ""
                        },
                        "type": "mesh3d"
                      }
                    ],
                    "parcoords": [
                      {
                        "line": {
                          "colorbar": {
                            "outlinewidth": 0,
                            "ticks": ""
                          }
                        },
                        "type": "parcoords"
                      }
                    ],
                    "pie": [
                      {
                        "automargin": true,
                        "type": "pie"
                      }
                    ],
                    "scatter": [
                      {
                        "fillpattern": {
                          "fillmode": "overlay",
                          "size": 10,
                          "solidity": 0.2
                        },
                        "type": "scatter"
                      }
                    ],
                    "scatter3d": [
                      {
                        "line": {
                          "colorbar": {
                            "outlinewidth": 0,
                            "ticks": ""
                          }
                        },
                        "marker": {
                          "colorbar": {
                            "outlinewidth": 0,
                            "ticks": ""
                          }
                        },
                        "type": "scatter3d"
                      }
                    ],
                    "scattercarpet": [
                      {
                        "marker": {
                          "colorbar": {
                            "outlinewidth": 0,
                            "ticks": ""
                          }
                        },
                        "type": "scattercarpet"
                      }
                    ],
                    "scattergeo": [
                      {
                        "marker": {
                          "colorbar": {
                            "outlinewidth": 0,
                            "ticks": ""
                          }
                        },
                        "type": "scattergeo"
                      }
                    ],
                    "scattergl": [
                      {
                        "marker": {
                          "colorbar": {
                            "outlinewidth": 0,
                            "ticks": ""
                          }
                        },
                        "type": "scattergl"
                      }
                    ],
                    "scattermap": [
                      {
                        "marker": {
                          "colorbar": {
                            "outlinewidth": 0,
                            "ticks": ""
                          }
                        },
                        "type": "scattermap"
                      }
                    ],
                    "scattermapbox": [
                      {
                        "marker": {
                          "colorbar": {
                            "outlinewidth": 0,
                            "ticks": ""
                          }
                        },
                        "type": "scattermapbox"
                      }
                    ],
                    "scatterpolar": [
                      {
                        "marker": {
                          "colorbar": {
                            "outlinewidth": 0,
                            "ticks": ""
                          }
                        },
                        "type": "scatterpolar"
                      }
                    ],
                    "scatterpolargl": [
                      {
                        "marker": {
                          "colorbar": {
                            "outlinewidth": 0,
                            "ticks": ""
                          }
                        },
                        "type": "scatterpolargl"
                      }
                    ],
                    "scatterternary": [
                      {
                        "marker": {
                          "colorbar": {
                            "outlinewidth": 0,
                            "ticks": ""
                          }
                        },
                        "type": "scatterternary"
                      }
                    ],
                    "surface": [
                      {
                        "colorbar": {
                          "outlinewidth": 0,
                          "ticks": ""
                        },
                        "colorscale": [
                          [
                            0,
                            "#0d0887"
                          ],
                          [
                            0.1111111111111111,
                            "#46039f"
                          ],
                          [
                            0.2222222222222222,
                            "#7201a8"
                          ],
                          [
                            0.3333333333333333,
                            "#9c179e"
                          ],
                          [
                            0.4444444444444444,
                            "#bd3786"
                          ],
                          [
                            0.5555555555555556,
                            "#d8576b"
                          ],
                          [
                            0.6666666666666666,
                            "#ed7953"
                          ],
                          [
                            0.7777777777777778,
                            "#fb9f3a"
                          ],
                          [
                            0.8888888888888888,
                            "#fdca26"
                          ],
                          [
                            1,
                            "#f0f921"
                          ]
                        ],
                        "type": "surface"
                      }
                    ],
                    "table": [
                      {
                        "cells": {
                          "fill": {
                            "color": "#EBF0F8"
                          },
                          "line": {
                            "color": "white"
                          }
                        },
                        "header": {
                          "fill": {
                            "color": "#C8D4E3"
                          },
                          "line": {
                            "color": "white"
                          }
                        },
                        "type": "table"
                      }
                    ]
                  },
                  "layout": {
                    "annotationdefaults": {
                      "arrowcolor": "#2a3f5f",
                      "arrowhead": 0,
                      "arrowwidth": 1
                    },
                    "autotypenumbers": "strict",
                    "coloraxis": {
                      "colorbar": {
                        "outlinewidth": 0,
                        "ticks": ""
                      }
                    },
                    "colorscale": {
                      "diverging": [
                        [
                          0,
                          "#8e0152"
                        ],
                        [
                          0.1,
                          "#c51b7d"
                        ],
                        [
                          0.2,
                          "#de77ae"
                        ],
                        [
                          0.3,
                          "#f1b6da"
                        ],
                        [
                          0.4,
                          "#fde0ef"
                        ],
                        [
                          0.5,
                          "#f7f7f7"
                        ],
                        [
                          0.6,
                          "#e6f5d0"
                        ],
                        [
                          0.7,
                          "#b8e186"
                        ],
                        [
                          0.8,
                          "#7fbc41"
                        ],
                        [
                          0.9,
                          "#4d9221"
                        ],
                        [
                          1,
                          "#276419"
                        ]
                      ],
                      "sequential": [
                        [
                          0,
                          "#0d0887"
                        ],
                        [
                          0.1111111111111111,
                          "#46039f"
                        ],
                        [
                          0.2222222222222222,
                          "#7201a8"
                        ],
                        [
                          0.3333333333333333,
                          "#9c179e"
                        ],
                        [
                          0.4444444444444444,
                          "#bd3786"
                        ],
                        [
                          0.5555555555555556,
                          "#d8576b"
                        ],
                        [
                          0.6666666666666666,
                          "#ed7953"
                        ],
                        [
                          0.7777777777777778,
                          "#fb9f3a"
                        ],
                        [
                          0.8888888888888888,
                          "#fdca26"
                        ],
                        [
                          1,
                          "#f0f921"
                        ]
                      ],
                      "sequentialminus": [
                        [
                          0,
                          "#0d0887"
                        ],
                        [
                          0.1111111111111111,
                          "#46039f"
                        ],
                        [
                          0.2222222222222222,
                          "#7201a8"
                        ],
                        [
                          0.3333333333333333,
                          "#9c179e"
                        ],
                        [
                          0.4444444444444444,
                          "#bd3786"
                        ],
                        [
                          0.5555555555555556,
                          "#d8576b"
                        ],
                        [
                          0.6666666666666666,
                          "#ed7953"
                        ],
                        [
                          0.7777777777777778,
                          "#fb9f3a"
                        ],
                        [
                          0.8888888888888888,
                          "#fdca26"
                        ],
                        [
                          1,
                          "#f0f921"
                        ]
                      ]
                    },
                    "colorway": [
                      "#636efa",
                      "#EF553B",
                      "#00cc96",
                      "#ab63fa",
                      "#FFA15A",
                      "#19d3f3",
                      "#FF6692",
                      "#B6E880",
                      "#FF97FF",
                      "#FECB52"
                    ],
                    "font": {
                      "color": "#2a3f5f"
                    },
                    "geo": {
                      "bgcolor": "white",
                      "lakecolor": "white",
                      "landcolor": "#E5ECF6",
                      "showlakes": true,
                      "showland": true,
                      "subunitcolor": "white"
                    },
                    "hoverlabel": {
                      "align": "left"
                    },
                    "hovermode": "closest",
                    "mapbox": {
                      "style": "light"
                    },
                    "paper_bgcolor": "white",
                    "plot_bgcolor": "#E5ECF6",
                    "polar": {
                      "angularaxis": {
                        "gridcolor": "white",
                        "linecolor": "white",
                        "ticks": ""
                      },
                      "bgcolor": "#E5ECF6",
                      "radialaxis": {
                        "gridcolor": "white",
                        "linecolor": "white",
                        "ticks": ""
                      }
                    },
                    "scene": {
                      "xaxis": {
                        "backgroundcolor": "#E5ECF6",
                        "gridcolor": "white",
                        "gridwidth": 2,
                        "linecolor": "white",
                        "showbackground": true,
                        "ticks": "",
                        "zerolinecolor": "white"
                      },
                      "yaxis": {
                        "backgroundcolor": "#E5ECF6",
                        "gridcolor": "white",
                        "gridwidth": 2,
                        "linecolor": "white",
                        "showbackground": true,
                        "ticks": "",
                        "zerolinecolor": "white"
                      },
                      "zaxis": {
                        "backgroundcolor": "#E5ECF6",
                        "gridcolor": "white",
                        "gridwidth": 2,
                        "linecolor": "white",
                        "showbackground": true,
                        "ticks": "",
                        "zerolinecolor": "white"
                      }
                    },
                    "shapedefaults": {
                      "line": {
                        "color": "#2a3f5f"
                      }
                    },
                    "ternary": {
                      "aaxis": {
                        "gridcolor": "white",
                        "linecolor": "white",
                        "ticks": ""
                      },
                      "baxis": {
                        "gridcolor": "white",
                        "linecolor": "white",
                        "ticks": ""
                      },
                      "bgcolor": "#E5ECF6",
                      "caxis": {
                        "gridcolor": "white",
                        "linecolor": "white",
                        "ticks": ""
                      }
                    },
                    "title": {
                      "x": 0.05
                    },
                    "xaxis": {
                      "automargin": true,
                      "gridcolor": "white",
                      "linecolor": "white",
                      "ticks": "",
                      "title": {
                        "standoff": 15
                      },
                      "zerolinecolor": "white",
                      "zerolinewidth": 2
                    },
                    "yaxis": {
                      "automargin": true,
                      "gridcolor": "white",
                      "linecolor": "white",
                      "ticks": "",
                      "title": {
                        "standoff": 15
                      },
                      "zerolinecolor": "white",
                      "zerolinewidth": 2
                    }
                  }
                },
                "title": {
                  "text": "Delay Prediction Analysis"
                },
                "xaxis": {
                  "anchor": "y",
                  "domain": [
                    0,
                    0.45
                  ]
                },
                "xaxis2": {
                  "anchor": "y2",
                  "domain": [
                    0.55,
                    1
                  ]
                },
                "xaxis3": {
                  "anchor": "y3",
                  "domain": [
                    0,
                    0.45
                  ]
                },
                "xaxis4": {
                  "anchor": "y4",
                  "domain": [
                    0.55,
                    1
                  ]
                },
                "yaxis": {
                  "anchor": "x",
                  "domain": [
                    0.625,
                    1
                  ]
                },
                "yaxis2": {
                  "anchor": "x2",
                  "domain": [
                    0.625,
                    1
                  ]
                },
                "yaxis3": {
                  "anchor": "x3",
                  "domain": [
                    0,
                    0.375
                  ]
                },
                "yaxis4": {
                  "anchor": "x4",
                  "domain": [
                    0,
                    0.375
                  ]
                }
              }
            }
          },
          "metadata": {},
          "output_type": "display_data"
        },
        {
          "name": "stdout",
          "output_type": "stream",
          "text": [
            "✅ Delay prediction visualization complete!\n"
          ]
        }
      ],
      "source": [
        "# Create delay prediction visualizations\n",
        "delay_fig = visualizer.plot_delay_predictions(delay_predictor)\n",
        "delay_fig.show()\n",
        "\n",
        "print(\"✅ Delay prediction visualization complete!\")"
      ]
    },
    {
      "cell_type": "code",
      "execution_count": 22,
      "metadata": {},
      "outputs": [
        {
          "name": "stdout",
          "output_type": "stream",
          "text": [
            "Creating transit network map...\n",
            "✓ Interactive network map created\n",
            "✓ Interactive network map created\n",
            "✅ Interactive network map created and saved!\n",
            "📁 Map saved as: ../outputs/transit_network_map.html\n",
            "✅ Interactive network map created and saved!\n",
            "📁 Map saved as: ../outputs/transit_network_map.html\n"
          ]
        }
      ],
      "source": [
        "# Create network map\n",
        "try:\n",
        "    network_map = visualizer.plot_network_map(interactive=True)\n",
        "    if network_map:\n",
        "        # Save map\n",
        "        network_map.save('../outputs/transit_network_map.html')\n",
        "        print(\"✅ Interactive network map created and saved!\")\n",
        "        print(\"📁 Map saved as: ../outputs/transit_network_map.html\")\n",
        "    else:\n",
        "        print(\"⚠️ Could not create interactive map (insufficient coordinate data)\")\n",
        "except Exception as e:\n",
        "    print(f\"⚠️ Map creation failed: {e}\")\n",
        "    print(\"Creating static network visualization instead...\")\n",
        "    visualizer.plot_network_map(interactive=False)"
      ]
    },
    {
      "cell_type": "markdown",
      "metadata": {},
      "source": [
        "## 📱 Comprehensive Dashboard"
      ]
    },
    {
      "cell_type": "code",
      "execution_count": 23,
      "metadata": {},
      "outputs": [
        {
          "name": "stdout",
          "output_type": "stream",
          "text": [
            "Creating interactive dashboard...\n",
            "Forecasting ridership for 7 days...\n",
            "Forecasting ridership for 7 days...\n",
            "✓ Generated 6650 ridership forecasts\n",
            "✓ Interactive dashboard created\n",
            "✓ Generated 6650 ridership forecasts\n",
            "✓ Interactive dashboard created\n"
          ]
        },
        {
          "data": {
            "application/vnd.plotly.v1+json": {
              "config": {
                "plotlyServerURL": "https://plot.ly"
              },
              "data": [
                {
                  "marker": {
                    "opacity": 0.6,
                    "size": 4
                  },
                  "mode": "markers",
                  "name": "Transit Stops",
                  "type": "scatter",
                  "x": {
                    "bdata": "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",
                    "dtype": "f8"
                  },
                  "xaxis": "x",
                  "y": {
                    "bdata": "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",
                    "dtype": "f8"
                  },
                  "yaxis": "y"
                },
                {
                  "name": "Current Delays",
                  "type": "bar",
                  "x": [
                    "L100D99",
                    "L104D99",
                    "L105D99",
                    "L107D99",
                    "L109D99",
                    "L110D99",
                    "L125D99",
                    "L115D99",
                    "L122D99",
                    "L128D99"
                  ],
                  "xaxis": "x2",
                  "y": [
                    9.046935888106164,
                    9.046935888106164,
                    9.046935888106164,
                    9.046935888106164,
                    9.046935888106164,
                    9.046935888106164,
                    9.046935888106164,
                    8.25130378157413,
                    8.25130378157413,
                    5.880697027619375
                  ],
                  "yaxis": "y2"
                },
                {
                  "mode": "lines+markers",
                  "name": "Hourly Ridership",
                  "type": "scatter",
                  "x": [
                    5,
                    6,
                    7,
                    8,
                    9,
                    10,
                    11,
                    12,
                    13,
                    14,
                    15,
                    16,
                    17,
                    18,
                    19,
                    20,
                    21,
                    22,
                    23
                  ],
                  "xaxis": "x3",
                  "y": [
                    17.786,
                    18.147333333333332,
                    99.16066666666667,
                    99.37466666666667,
                    100.68466666666667,
                    56.42666666666667,
                    55.94466666666667,
                    55.208,
                    56.092666666666666,
                    55.61333333333334,
                    56.510666666666665,
                    57.20666666666666,
                    94.694,
                    94.52533333333334,
                    94.02733333333333,
                    49.35733333333334,
                    48.37,
                    48.548,
                    17.873333333333335
                  ],
                  "yaxis": "y3"
                },
                {
                  "name": "Avg Speed (km/h)",
                  "type": "bar",
                  "x": [
                    "L100D99",
                    "L104D99",
                    "L105D99",
                    "L106D99",
                    "L107D99",
                    "L108D99",
                    "L109D99",
                    "L10D99",
                    "L110D99",
                    "L114D99"
                  ],
                  "xaxis": "x4",
                  "y": [
                    23.299450499964866,
                    17.743256143936552,
                    17.984444378893734,
                    27.890352571486513,
                    21.14517983300812,
                    26.456583989050962,
                    19.19930899781994,
                    9.783230254426517,
                    41.4972796523867,
                    26.748833791411542
                  ],
                  "yaxis": "y4"
                },
                {
                  "mode": "lines+markers",
                  "name": "7-Day Forecast",
                  "type": "scatter",
                  "x": [
                    "2024-01-31",
                    "2024-02-01",
                    "2024-02-02",
                    "2024-02-03",
                    "2024-02-04",
                    "2024-02-05",
                    "2024-02-06"
                  ],
                  "xaxis": "x5",
                  "y": {
                    "bdata": "FQgBAIYBAQDsAwEABZUAAP6SAADH8QAAdQUBAA==",
                    "dtype": "i4"
                  },
                  "yaxis": "y5"
                },
                {
                  "cells": {
                    "values": [
                      [
                        "num_agencies",
                        "num_routes",
                        "route_types",
                        "num_stops",
                        "num_trips",
                        "num_stop_times"
                      ],
                      [
                        1,
                        343,
                        {
                          "0": 15,
                          "2": 28,
                          "3": 286,
                          "4": 1,
                          "800": 13
                        },
                        10911,
                        56226,
                        961814
                      ]
                    ]
                  },
                  "domain": {
                    "x": [
                      0.55,
                      1
                    ],
                    "y": [
                      0,
                      0.22222222222222224
                    ]
                  },
                  "header": {
                    "values": [
                      "Metric",
                      "Value"
                    ]
                  },
                  "type": "table"
                }
              ],
              "layout": {
                "annotations": [
                  {
                    "font": {
                      "size": 16
                    },
                    "showarrow": false,
                    "text": "Network Overview",
                    "x": 0.225,
                    "xanchor": "center",
                    "xref": "paper",
                    "y": 1,
                    "yanchor": "bottom",
                    "yref": "paper"
                  },
                  {
                    "font": {
                      "size": 16
                    },
                    "showarrow": false,
                    "text": "Real-time Delays",
                    "x": 0.775,
                    "xanchor": "center",
                    "xref": "paper",
                    "y": 1,
                    "yanchor": "bottom",
                    "yref": "paper"
                  },
                  {
                    "font": {
                      "size": 16
                    },
                    "showarrow": false,
                    "text": "Ridership Patterns",
                    "x": 0.225,
                    "xanchor": "center",
                    "xref": "paper",
                    "y": 0.6111111111111112,
                    "yanchor": "bottom",
                    "yref": "paper"
                  },
                  {
                    "font": {
                      "size": 16
                    },
                    "showarrow": false,
                    "text": "Route Performance",
                    "x": 0.775,
                    "xanchor": "center",
                    "xref": "paper",
                    "y": 0.6111111111111112,
                    "yanchor": "bottom",
                    "yref": "paper"
                  },
                  {
                    "font": {
                      "size": 16
                    },
                    "showarrow": false,
                    "text": "Demand Forecast",
                    "x": 0.225,
                    "xanchor": "center",
                    "xref": "paper",
                    "y": 0.22222222222222224,
                    "yanchor": "bottom",
                    "yref": "paper"
                  },
                  {
                    "font": {
                      "size": 16
                    },
                    "showarrow": false,
                    "text": "System Statistics",
                    "x": 0.775,
                    "xanchor": "center",
                    "xref": "paper",
                    "y": 0.22222222222222224,
                    "yanchor": "bottom",
                    "yref": "paper"
                  }
                ],
                "height": 1200,
                "template": {
                  "data": {
                    "bar": [
                      {
                        "error_x": {
                          "color": "#2a3f5f"
                        },
                        "error_y": {
                          "color": "#2a3f5f"
                        },
                        "marker": {
                          "line": {
                            "color": "#E5ECF6",
                            "width": 0.5
                          },
                          "pattern": {
                            "fillmode": "overlay",
                            "size": 10,
                            "solidity": 0.2
                          }
                        },
                        "type": "bar"
                      }
                    ],
                    "barpolar": [
                      {
                        "marker": {
                          "line": {
                            "color": "#E5ECF6",
                            "width": 0.5
                          },
                          "pattern": {
                            "fillmode": "overlay",
                            "size": 10,
                            "solidity": 0.2
                          }
                        },
                        "type": "barpolar"
                      }
                    ],
                    "carpet": [
                      {
                        "aaxis": {
                          "endlinecolor": "#2a3f5f",
                          "gridcolor": "white",
                          "linecolor": "white",
                          "minorgridcolor": "white",
                          "startlinecolor": "#2a3f5f"
                        },
                        "baxis": {
                          "endlinecolor": "#2a3f5f",
                          "gridcolor": "white",
                          "linecolor": "white",
                          "minorgridcolor": "white",
                          "startlinecolor": "#2a3f5f"
                        },
                        "type": "carpet"
                      }
                    ],
                    "choropleth": [
                      {
                        "colorbar": {
                          "outlinewidth": 0,
                          "ticks": ""
                        },
                        "type": "choropleth"
                      }
                    ],
                    "contour": [
                      {
                        "colorbar": {
                          "outlinewidth": 0,
                          "ticks": ""
                        },
                        "colorscale": [
                          [
                            0,
                            "#0d0887"
                          ],
                          [
                            0.1111111111111111,
                            "#46039f"
                          ],
                          [
                            0.2222222222222222,
                            "#7201a8"
                          ],
                          [
                            0.3333333333333333,
                            "#9c179e"
                          ],
                          [
                            0.4444444444444444,
                            "#bd3786"
                          ],
                          [
                            0.5555555555555556,
                            "#d8576b"
                          ],
                          [
                            0.6666666666666666,
                            "#ed7953"
                          ],
                          [
                            0.7777777777777778,
                            "#fb9f3a"
                          ],
                          [
                            0.8888888888888888,
                            "#fdca26"
                          ],
                          [
                            1,
                            "#f0f921"
                          ]
                        ],
                        "type": "contour"
                      }
                    ],
                    "contourcarpet": [
                      {
                        "colorbar": {
                          "outlinewidth": 0,
                          "ticks": ""
                        },
                        "type": "contourcarpet"
                      }
                    ],
                    "heatmap": [
                      {
                        "colorbar": {
                          "outlinewidth": 0,
                          "ticks": ""
                        },
                        "colorscale": [
                          [
                            0,
                            "#0d0887"
                          ],
                          [
                            0.1111111111111111,
                            "#46039f"
                          ],
                          [
                            0.2222222222222222,
                            "#7201a8"
                          ],
                          [
                            0.3333333333333333,
                            "#9c179e"
                          ],
                          [
                            0.4444444444444444,
                            "#bd3786"
                          ],
                          [
                            0.5555555555555556,
                            "#d8576b"
                          ],
                          [
                            0.6666666666666666,
                            "#ed7953"
                          ],
                          [
                            0.7777777777777778,
                            "#fb9f3a"
                          ],
                          [
                            0.8888888888888888,
                            "#fdca26"
                          ],
                          [
                            1,
                            "#f0f921"
                          ]
                        ],
                        "type": "heatmap"
                      }
                    ],
                    "histogram": [
                      {
                        "marker": {
                          "pattern": {
                            "fillmode": "overlay",
                            "size": 10,
                            "solidity": 0.2
                          }
                        },
                        "type": "histogram"
                      }
                    ],
                    "histogram2d": [
                      {
                        "colorbar": {
                          "outlinewidth": 0,
                          "ticks": ""
                        },
                        "colorscale": [
                          [
                            0,
                            "#0d0887"
                          ],
                          [
                            0.1111111111111111,
                            "#46039f"
                          ],
                          [
                            0.2222222222222222,
                            "#7201a8"
                          ],
                          [
                            0.3333333333333333,
                            "#9c179e"
                          ],
                          [
                            0.4444444444444444,
                            "#bd3786"
                          ],
                          [
                            0.5555555555555556,
                            "#d8576b"
                          ],
                          [
                            0.6666666666666666,
                            "#ed7953"
                          ],
                          [
                            0.7777777777777778,
                            "#fb9f3a"
                          ],
                          [
                            0.8888888888888888,
                            "#fdca26"
                          ],
                          [
                            1,
                            "#f0f921"
                          ]
                        ],
                        "type": "histogram2d"
                      }
                    ],
                    "histogram2dcontour": [
                      {
                        "colorbar": {
                          "outlinewidth": 0,
                          "ticks": ""
                        },
                        "colorscale": [
                          [
                            0,
                            "#0d0887"
                          ],
                          [
                            0.1111111111111111,
                            "#46039f"
                          ],
                          [
                            0.2222222222222222,
                            "#7201a8"
                          ],
                          [
                            0.3333333333333333,
                            "#9c179e"
                          ],
                          [
                            0.4444444444444444,
                            "#bd3786"
                          ],
                          [
                            0.5555555555555556,
                            "#d8576b"
                          ],
                          [
                            0.6666666666666666,
                            "#ed7953"
                          ],
                          [
                            0.7777777777777778,
                            "#fb9f3a"
                          ],
                          [
                            0.8888888888888888,
                            "#fdca26"
                          ],
                          [
                            1,
                            "#f0f921"
                          ]
                        ],
                        "type": "histogram2dcontour"
                      }
                    ],
                    "mesh3d": [
                      {
                        "colorbar": {
                          "outlinewidth": 0,
                          "ticks": ""
                        },
                        "type": "mesh3d"
                      }
                    ],
                    "parcoords": [
                      {
                        "line": {
                          "colorbar": {
                            "outlinewidth": 0,
                            "ticks": ""
                          }
                        },
                        "type": "parcoords"
                      }
                    ],
                    "pie": [
                      {
                        "automargin": true,
                        "type": "pie"
                      }
                    ],
                    "scatter": [
                      {
                        "fillpattern": {
                          "fillmode": "overlay",
                          "size": 10,
                          "solidity": 0.2
                        },
                        "type": "scatter"
                      }
                    ],
                    "scatter3d": [
                      {
                        "line": {
                          "colorbar": {
                            "outlinewidth": 0,
                            "ticks": ""
                          }
                        },
                        "marker": {
                          "colorbar": {
                            "outlinewidth": 0,
                            "ticks": ""
                          }
                        },
                        "type": "scatter3d"
                      }
                    ],
                    "scattercarpet": [
                      {
                        "marker": {
                          "colorbar": {
                            "outlinewidth": 0,
                            "ticks": ""
                          }
                        },
                        "type": "scattercarpet"
                      }
                    ],
                    "scattergeo": [
                      {
                        "marker": {
                          "colorbar": {
                            "outlinewidth": 0,
                            "ticks": ""
                          }
                        },
                        "type": "scattergeo"
                      }
                    ],
                    "scattergl": [
                      {
                        "marker": {
                          "colorbar": {
                            "outlinewidth": 0,
                            "ticks": ""
                          }
                        },
                        "type": "scattergl"
                      }
                    ],
                    "scattermap": [
                      {
                        "marker": {
                          "colorbar": {
                            "outlinewidth": 0,
                            "ticks": ""
                          }
                        },
                        "type": "scattermap"
                      }
                    ],
                    "scattermapbox": [
                      {
                        "marker": {
                          "colorbar": {
                            "outlinewidth": 0,
                            "ticks": ""
                          }
                        },
                        "type": "scattermapbox"
                      }
                    ],
                    "scatterpolar": [
                      {
                        "marker": {
                          "colorbar": {
                            "outlinewidth": 0,
                            "ticks": ""
                          }
                        },
                        "type": "scatterpolar"
                      }
                    ],
                    "scatterpolargl": [
                      {
                        "marker": {
                          "colorbar": {
                            "outlinewidth": 0,
                            "ticks": ""
                          }
                        },
                        "type": "scatterpolargl"
                      }
                    ],
                    "scatterternary": [
                      {
                        "marker": {
                          "colorbar": {
                            "outlinewidth": 0,
                            "ticks": ""
                          }
                        },
                        "type": "scatterternary"
                      }
                    ],
                    "surface": [
                      {
                        "colorbar": {
                          "outlinewidth": 0,
                          "ticks": ""
                        },
                        "colorscale": [
                          [
                            0,
                            "#0d0887"
                          ],
                          [
                            0.1111111111111111,
                            "#46039f"
                          ],
                          [
                            0.2222222222222222,
                            "#7201a8"
                          ],
                          [
                            0.3333333333333333,
                            "#9c179e"
                          ],
                          [
                            0.4444444444444444,
                            "#bd3786"
                          ],
                          [
                            0.5555555555555556,
                            "#d8576b"
                          ],
                          [
                            0.6666666666666666,
                            "#ed7953"
                          ],
                          [
                            0.7777777777777778,
                            "#fb9f3a"
                          ],
                          [
                            0.8888888888888888,
                            "#fdca26"
                          ],
                          [
                            1,
                            "#f0f921"
                          ]
                        ],
                        "type": "surface"
                      }
                    ],
                    "table": [
                      {
                        "cells": {
                          "fill": {
                            "color": "#EBF0F8"
                          },
                          "line": {
                            "color": "white"
                          }
                        },
                        "header": {
                          "fill": {
                            "color": "#C8D4E3"
                          },
                          "line": {
                            "color": "white"
                          }
                        },
                        "type": "table"
                      }
                    ]
                  },
                  "layout": {
                    "annotationdefaults": {
                      "arrowcolor": "#2a3f5f",
                      "arrowhead": 0,
                      "arrowwidth": 1
                    },
                    "autotypenumbers": "strict",
                    "coloraxis": {
                      "colorbar": {
                        "outlinewidth": 0,
                        "ticks": ""
                      }
                    },
                    "colorscale": {
                      "diverging": [
                        [
                          0,
                          "#8e0152"
                        ],
                        [
                          0.1,
                          "#c51b7d"
                        ],
                        [
                          0.2,
                          "#de77ae"
                        ],
                        [
                          0.3,
                          "#f1b6da"
                        ],
                        [
                          0.4,
                          "#fde0ef"
                        ],
                        [
                          0.5,
                          "#f7f7f7"
                        ],
                        [
                          0.6,
                          "#e6f5d0"
                        ],
                        [
                          0.7,
                          "#b8e186"
                        ],
                        [
                          0.8,
                          "#7fbc41"
                        ],
                        [
                          0.9,
                          "#4d9221"
                        ],
                        [
                          1,
                          "#276419"
                        ]
                      ],
                      "sequential": [
                        [
                          0,
                          "#0d0887"
                        ],
                        [
                          0.1111111111111111,
                          "#46039f"
                        ],
                        [
                          0.2222222222222222,
                          "#7201a8"
                        ],
                        [
                          0.3333333333333333,
                          "#9c179e"
                        ],
                        [
                          0.4444444444444444,
                          "#bd3786"
                        ],
                        [
                          0.5555555555555556,
                          "#d8576b"
                        ],
                        [
                          0.6666666666666666,
                          "#ed7953"
                        ],
                        [
                          0.7777777777777778,
                          "#fb9f3a"
                        ],
                        [
                          0.8888888888888888,
                          "#fdca26"
                        ],
                        [
                          1,
                          "#f0f921"
                        ]
                      ],
                      "sequentialminus": [
                        [
                          0,
                          "#0d0887"
                        ],
                        [
                          0.1111111111111111,
                          "#46039f"
                        ],
                        [
                          0.2222222222222222,
                          "#7201a8"
                        ],
                        [
                          0.3333333333333333,
                          "#9c179e"
                        ],
                        [
                          0.4444444444444444,
                          "#bd3786"
                        ],
                        [
                          0.5555555555555556,
                          "#d8576b"
                        ],
                        [
                          0.6666666666666666,
                          "#ed7953"
                        ],
                        [
                          0.7777777777777778,
                          "#fb9f3a"
                        ],
                        [
                          0.8888888888888888,
                          "#fdca26"
                        ],
                        [
                          1,
                          "#f0f921"
                        ]
                      ]
                    },
                    "colorway": [
                      "#636efa",
                      "#EF553B",
                      "#00cc96",
                      "#ab63fa",
                      "#FFA15A",
                      "#19d3f3",
                      "#FF6692",
                      "#B6E880",
                      "#FF97FF",
                      "#FECB52"
                    ],
                    "font": {
                      "color": "#2a3f5f"
                    },
                    "geo": {
                      "bgcolor": "white",
                      "lakecolor": "white",
                      "landcolor": "#E5ECF6",
                      "showlakes": true,
                      "showland": true,
                      "subunitcolor": "white"
                    },
                    "hoverlabel": {
                      "align": "left"
                    },
                    "hovermode": "closest",
                    "mapbox": {
                      "style": "light"
                    },
                    "paper_bgcolor": "white",
                    "plot_bgcolor": "#E5ECF6",
                    "polar": {
                      "angularaxis": {
                        "gridcolor": "white",
                        "linecolor": "white",
                        "ticks": ""
                      },
                      "bgcolor": "#E5ECF6",
                      "radialaxis": {
                        "gridcolor": "white",
                        "linecolor": "white",
                        "ticks": ""
                      }
                    },
                    "scene": {
                      "xaxis": {
                        "backgroundcolor": "#E5ECF6",
                        "gridcolor": "white",
                        "gridwidth": 2,
                        "linecolor": "white",
                        "showbackground": true,
                        "ticks": "",
                        "zerolinecolor": "white"
                      },
                      "yaxis": {
                        "backgroundcolor": "#E5ECF6",
                        "gridcolor": "white",
                        "gridwidth": 2,
                        "linecolor": "white",
                        "showbackground": true,
                        "ticks": "",
                        "zerolinecolor": "white"
                      },
                      "zaxis": {
                        "backgroundcolor": "#E5ECF6",
                        "gridcolor": "white",
                        "gridwidth": 2,
                        "linecolor": "white",
                        "showbackground": true,
                        "ticks": "",
                        "zerolinecolor": "white"
                      }
                    },
                    "shapedefaults": {
                      "line": {
                        "color": "#2a3f5f"
                      }
                    },
                    "ternary": {
                      "aaxis": {
                        "gridcolor": "white",
                        "linecolor": "white",
                        "ticks": ""
                      },
                      "baxis": {
                        "gridcolor": "white",
                        "linecolor": "white",
                        "ticks": ""
                      },
                      "bgcolor": "#E5ECF6",
                      "caxis": {
                        "gridcolor": "white",
                        "linecolor": "white",
                        "ticks": ""
                      }
                    },
                    "title": {
                      "x": 0.05
                    },
                    "xaxis": {
                      "automargin": true,
                      "gridcolor": "white",
                      "linecolor": "white",
                      "ticks": "",
                      "title": {
                        "standoff": 15
                      },
                      "zerolinecolor": "white",
                      "zerolinewidth": 2
                    },
                    "yaxis": {
                      "automargin": true,
                      "gridcolor": "white",
                      "linecolor": "white",
                      "ticks": "",
                      "title": {
                        "standoff": 15
                      },
                      "zerolinecolor": "white",
                      "zerolinewidth": 2
                    }
                  }
                },
                "title": {
                  "text": "Transit System Dashboard"
                },
                "xaxis": {
                  "anchor": "y",
                  "domain": [
                    0,
                    0.45
                  ]
                },
                "xaxis2": {
                  "anchor": "y2",
                  "domain": [
                    0.55,
                    1
                  ]
                },
                "xaxis3": {
                  "anchor": "y3",
                  "domain": [
                    0,
                    0.45
                  ]
                },
                "xaxis4": {
                  "anchor": "y4",
                  "domain": [
                    0.55,
                    1
                  ]
                },
                "xaxis5": {
                  "anchor": "y5",
                  "domain": [
                    0,
                    0.45
                  ]
                },
                "yaxis": {
                  "anchor": "x",
                  "domain": [
                    0.7777777777777778,
                    1
                  ]
                },
                "yaxis2": {
                  "anchor": "x2",
                  "domain": [
                    0.7777777777777778,
                    1
                  ]
                },
                "yaxis3": {
                  "anchor": "x3",
                  "domain": [
                    0.3888888888888889,
                    0.6111111111111112
                  ]
                },
                "yaxis4": {
                  "anchor": "x4",
                  "domain": [
                    0.3888888888888889,
                    0.6111111111111112
                  ]
                },
                "yaxis5": {
                  "anchor": "x5",
                  "domain": [
                    0,
                    0.22222222222222224
                  ]
                }
              }
            }
          },
          "metadata": {},
          "output_type": "display_data"
        },
        {
          "name": "stdout",
          "output_type": "stream",
          "text": [
            "✅ Comprehensive dashboard created!\n"
          ]
        }
      ],
      "source": [
        "# Create comprehensive interactive dashboard\n",
        "dashboard_fig = visualizer.create_interactive_dashboard(\n",
        "    delay_predictor=delay_predictor,\n",
        "    demand_forecaster=demand_forecaster\n",
        ")\n",
        "\n",
        "dashboard_fig.show()\n",
        "\n",
        "print(\"✅ Comprehensive dashboard created!\")"
      ]
    },
    {
      "cell_type": "code",
      "execution_count": 24,
      "metadata": {},
      "outputs": [
        {
          "name": "stdout",
          "output_type": "stream",
          "text": [
            "✓ Dashboard saved as ../outputs/transit_dashboard.html\n",
            "💾 Dashboard saved successfully!\n",
            "📁 Dashboard saved as: ../outputs/transit_dashboard.html\n"
          ]
        }
      ],
      "source": [
        "# Save dashboard as HTML\n",
        "try:\n",
        "    visualizer.save_dashboard_html(dashboard_fig, '../outputs/transit_dashboard.html')\n",
        "    print(\"💾 Dashboard saved successfully!\")\n",
        "    print(\"📁 Dashboard saved as: ../outputs/transit_dashboard.html\")\n",
        "except Exception as e:\n",
        "    print(f\"⚠️ Could not save dashboard: {e}\")"
      ]
    },
    {
      "cell_type": "markdown",
      "metadata": {},
      "source": [
        "## 🎯 Real-time Analysis Demo"
      ]
    },
    {
      "cell_type": "code",
      "execution_count": 25,
      "metadata": {},
      "outputs": [
        {
          "name": "stdout",
          "output_type": "stream",
          "text": [
            "\n",
            "⏰ Real-time Analysis for 12:00\n",
            "=============================================\n",
            "\n",
            "🚨 Routes with Highest Predicted Delays:\n",
            "  1. 🔴 L100D99: 8.8 min delay (High)\n",
            "  2. 🔴 L120D99: 8.8 min delay (High)\n",
            "  3. 🔴 L123D99: 8.8 min delay (High)\n",
            "  4. 🔴 L124D99: 8.8 min delay (High)\n",
            "  5. 🔴 L12D99: 8.8 min delay (High)\n",
            "\n",
            "👥 Expected ridership this hour: 55 passengers\n",
            "\n",
            "📊 System Performance Summary:\n",
            "  Average delay: 5.3 minutes\n",
            "  Routes with high delays: 13/20\n",
            "  Network connectivity: Limited\n",
            "  Total active routes: 343\n",
            "\n",
            "🚨 Routes with Highest Predicted Delays:\n",
            "  1. 🔴 L100D99: 8.8 min delay (High)\n",
            "  2. 🔴 L120D99: 8.8 min delay (High)\n",
            "  3. 🔴 L123D99: 8.8 min delay (High)\n",
            "  4. 🔴 L124D99: 8.8 min delay (High)\n",
            "  5. 🔴 L12D99: 8.8 min delay (High)\n",
            "\n",
            "👥 Expected ridership this hour: 55 passengers\n",
            "\n",
            "📊 System Performance Summary:\n",
            "  Average delay: 5.3 minutes\n",
            "  Routes with high delays: 13/20\n",
            "  Network connectivity: Limited\n",
            "  Total active routes: 343\n"
          ]
        }
      ],
      "source": [
        "# Simulate real-time analysis for current hour\n",
        "from datetime import datetime\n",
        "\n",
        "current_hour = datetime.now().hour\n",
        "print(f\"\\n⏰ Real-time Analysis for {current_hour}:00\")\n",
        "print(\"=\" * 45)\n",
        "\n",
        "# Get routes with current delays\n",
        "current_delays = visualizer.find_route_with_delay(current_hour, delay_predictor)\n",
        "\n",
        "print(\"\\n🚨 Routes with Highest Predicted Delays:\")\n",
        "for i, route_data in enumerate(current_delays[:5], 1):\n",
        "    route_id = route_data['route_id']\n",
        "    delay = route_data['predicted_delay']\n",
        "    category = route_data['delay_category']\n",
        "    \n",
        "    status_emoji = \"🔴\" if delay > 5 else \"🟡\" if delay > 2 else \"🟢\"\n",
        "    print(f\"  {i}. {status_emoji} {route_id}: {delay:.1f} min delay ({category})\")\n",
        "\n",
        "# Current ridership prediction\n",
        "current_ridership = demand_forecaster.get_demand_patterns()['hourly'].get(current_hour, 0)\n",
        "print(f\"\\n👥 Expected ridership this hour: {current_ridership:.0f} passengers\")\n",
        "\n",
        "# System performance summary\n",
        "avg_delay = np.mean([r['predicted_delay'] for r in current_delays])\n",
        "high_delay_routes = len([r for r in current_delays if r['predicted_delay'] > 5])\n",
        "\n",
        "print(\"\\n📊 System Performance Summary:\")\n",
        "print(f\"  Average delay: {avg_delay:.1f} minutes\")\n",
        "print(f\"  Routes with high delays: {high_delay_routes}/{len(current_delays)}\")\n",
        "print(f\"  Network connectivity: {'Good' if network_stats.get('is_connected', False) else 'Limited'}\")\n",
        "print(f\"  Total active routes: {len(gtfs.routes) if gtfs.routes is not None else 'Unknown'}\")"
      ]
    },
    {
      "cell_type": "markdown",
      "metadata": {},
      "source": [
        "## 📋 Summary and Insights"
      ]
    },
    {
      "cell_type": "code",
      "execution_count": 26,
      "metadata": {},
      "outputs": [
        {
          "name": "stdout",
          "output_type": "stream",
          "text": [
            "\n",
            "🎉 GTFS Transit Analysis Complete!\n",
            "==================================================\n",
            "\n",
            "📊 Key Findings:\n",
            "  • Analyzed 343 routes across 10911 stops\n",
            "  • Network has 10911 nodes and 15439 connections\n",
            "  • Average travel time: 1.8 minutes\n",
            "  • ML model accuracy: 0.296 R²\n",
            "  • 7-day ridership forecast: 405,734 passengers\n",
            "\n",
            "🛠️ Generated Outputs:\n",
            "  • Interactive network map\n",
            "  • Delay prediction model\n",
            "  • Demand forecasting system\n",
            "  • Comprehensive dashboard\n",
            "  • Real-time analysis capability\n",
            "\n",
            "🎯 Use Cases Demonstrated:\n",
            "  • Route optimization\n",
            "  • Delay prediction and management\n",
            "  • Capacity planning\n",
            "  • Real-time passenger information\n",
            "  • Network performance monitoring\n",
            "\n",
            "✨ This analysis provides a foundation for:\n",
            "  📈 Data-driven transit planning\n",
            "  🤖 Predictive maintenance\n",
            "  👥 Passenger experience optimization\n",
            "  📱 Real-time information systems\n",
            "  🌍 Sustainable transportation insights\n",
            "\n",
            "==================================================\n",
            "🚊 Thank you for exploring GTFS Transit Analysis! 🚊\n",
            "==================================================\n"
          ]
        }
      ],
      "source": [
        "print(\"\\n🎉 GTFS Transit Analysis Complete!\")\n",
        "print(\"=\" * 50)\n",
        "\n",
        "print(\"\\n📊 Key Findings:\")\n",
        "print(f\"  • Analyzed {stats.get('num_routes', 'N/A')} routes across {stats.get('num_stops', 'N/A')} stops\")\n",
        "print(f\"  • Network has {network_stats['num_nodes']} nodes and {network_stats['num_edges']} connections\")\n",
        "print(f\"  • Average travel time: {travel_times_df['travel_time_minutes'].mean():.1f} minutes\")\n",
        "print(f\"  • ML model accuracy: {training_results['test_r2']:.3f} R²\")\n",
        "print(f\"  • 7-day ridership forecast: {total_forecast:,.0f} passengers\")\n",
        "\n",
        "print(\"\\n🛠️ Generated Outputs:\")\n",
        "print(\"  • Interactive network map\")\n",
        "print(\"  • Delay prediction model\")\n",
        "print(\"  • Demand forecasting system\")\n",
        "print(\"  • Comprehensive dashboard\")\n",
        "print(\"  • Real-time analysis capability\")\n",
        "\n",
        "print(\"\\n🎯 Use Cases Demonstrated:\")\n",
        "print(\"  • Route optimization\")\n",
        "print(\"  • Delay prediction and management\")\n",
        "print(\"  • Capacity planning\")\n",
        "print(\"  • Real-time passenger information\")\n",
        "print(\"  • Network performance monitoring\")\n",
        "\n",
        "print(\"\\n✨ This analysis provides a foundation for:\")\n",
        "print(\"  📈 Data-driven transit planning\")\n",
        "print(\"  🤖 Predictive maintenance\")\n",
        "print(\"  👥 Passenger experience optimization\")\n",
        "print(\"  📱 Real-time information systems\")\n",
        "print(\"  🌍 Sustainable transportation insights\")\n",
        "\n",
        "print(\"\\n\" + \"=\" * 50)\n",
        "print(\"🚊 Thank you for exploring GTFS Transit Analysis! 🚊\")\n",
        "print(\"=\" * 50)"
      ]
    }
  ],
  "metadata": {
    "kernelspec": {
      "display_name": "Python 3",
      "language": "python",
      "name": "python3"
    },
    "language_info": {
      "codemirror_mode": {
        "name": "ipython",
        "version": 3
      },
      "file_extension": ".py",
      "mimetype": "text/x-python",
      "name": "python",
      "nbconvert_exporter": "python",
      "pygments_lexer": "ipython3",
      "version": "3.11.12"
    }
  },
  "nbformat": 4,
  "nbformat_minor": 5
}
